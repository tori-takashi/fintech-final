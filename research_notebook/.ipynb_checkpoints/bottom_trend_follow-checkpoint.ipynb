version https://git-lfs.github.com/spec/v1
oid sha256:56c5a582d93fee662ce20bd4bc5067786336efd60ee87dad3c4e6749fd407079
size 160992
