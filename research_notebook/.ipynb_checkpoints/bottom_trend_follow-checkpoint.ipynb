version https://git-lfs.github.com/spec/v1
oid sha256:127e4dfbb469f8f97340a037e3f13bcaf78d962b81104b0aef733b1102cc9ef9
size 555
