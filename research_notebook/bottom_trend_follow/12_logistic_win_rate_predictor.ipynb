{
 "cells": [
  {
   "cell_type": "code",
   "execution_count": 1,
   "metadata": {},
   "outputs": [
    {
     "name": "stdout",
     "output_type": "stream",
     "text": [
      "downloading BTC/USD data on bitmex\n",
      "downloading 2020-01-06 22:52:30 ~ 2020-01-07 07:12:30 data\n",
      "50.0% completed\n",
      "downloading 2020-01-07 07:12:30 ~ 2020-01-07 10:24:44.966258 data\n",
      "100.0% completed\n",
      "Loading OHLCV data from bitmex_original_ohlcv_1min now...\n"
     ]
    }
   ],
   "source": [
    "import research_kit_bottom_trend_follow as rk\n",
    "rk.pd.set_option(\"display.max_columns\", 250)\n",
    "rk.pd.set_option(\"display.max_rows\", 250)\n",
    "import warnings\n",
    "warnings.filterwarnings('ignore')\n",
    "\n",
    "tradingbot = rk.BottomTrendFollow(db_client=rk.mysql_client, exchange_client=rk.bitmex_exchange_client, is_backtest=True)\n",
    "\n",
    "classification_train_start_time = rk.datetime(2019,9,1,0,0)\n",
    "classification_train_end_time = rk.datetime(2020,12,24,0,0)"
   ]
  },
  {
   "cell_type": "markdown",
   "metadata": {},
   "source": [
    "まず分析と分類だ\n",
    "あるidのtransaction logにwin loseのフラグがついているので、これをohlcvからentry timeに対して結合させる\n",
    "9/1~11/30をtrain、それ以降から12/25までをテストとする\n",
    "その成績で使うメソッドを考える。\n",
    "\n",
    "12/15以降が前者2つと比較してパフォーマンスを比較する期間である。"
   ]
  },
  {
   "cell_type": "code",
   "execution_count": 4,
   "metadata": {},
   "outputs": [],
   "source": [
    "#id_1_inv = rk.generate_transaction_log_by_param(tradingbot=tradingbot, timeframe_param=30, \n",
    "#    backtest_start_time=classification_train_start_time,\n",
    "#    backtest_end_time=classification_train_end_time,\n",
    "#    bottom_trend_tick=5, middle_trend_tick=3, top_trend_tick=1, inverse_trading=True,\n",
    "#    random_forest_leverage_adjust=False, close_position_on_do_nothing=True)\n",
    "id_1_inv = 4496"
   ]
  },
  {
   "cell_type": "code",
   "execution_count": 5,
   "metadata": {},
   "outputs": [
    {
     "name": "stdout",
     "output_type": "stream",
     "text": [
      "Loading OHLCV data from bitmex_original_ohlcv_1min now...\n",
      "                              ad asset_name      atr   close exchange_name  \\\n",
      "timestamp                                                                    \n",
      "2019-09-01 01:00:00 -148448000.0    BTC/USD  2.12953  9598.5        bitmex   \n",
      "2019-09-01 01:01:00 -148005000.0    BTC/USD  2.12028  9599.5        bitmex   \n",
      "2019-09-01 01:02:00 -147959000.0    BTC/USD  2.00454  9600.0        bitmex   \n",
      "2019-09-01 01:03:00 -148016000.0    BTC/USD  1.89708  9599.5        bitmex   \n",
      "2019-09-01 01:04:00 -147845000.0    BTC/USD  1.79729  9600.0        bitmex   \n",
      "\n",
      "                       high     id     low           obv    open     psar  \\\n",
      "timestamp                                                                   \n",
      "2019-09-01 01:00:00  9600.0  31795  9598.0 -1.877270e+09  9599.5  9590.90   \n",
      "2019-09-01 01:01:00  9600.0  31796  9598.0 -1.876380e+09  9598.5  9591.09   \n",
      "2019-09-01 01:02:00  9600.0  31797  9599.5 -1.876340e+09  9599.5  9591.28   \n",
      "2019-09-01 01:03:00  9600.0  31798  9599.5 -1.876390e+09  9600.0  9591.46   \n",
      "2019-09-01 01:04:00  9600.0  31799  9599.5 -1.876220e+09  9599.5  9591.64   \n",
      "\n",
      "                    psar_trend       roc      rsi    slowd    slowk    volume  \\\n",
      "timestamp                                                                       \n",
      "2019-09-01 01:00:00    uptrend -0.005209  55.3166  93.8054  88.4532  921242.0   \n",
      "2019-09-01 01:01:00    uptrend  0.093843  57.0282  86.0675  75.1198  885542.0   \n",
      "2019-09-01 01:02:00    uptrend  0.093838  57.8966  78.5766  72.1569   45970.0   \n",
      "2019-09-01 01:03:00    uptrend  0.083407  56.6634  71.3145  66.6667   56584.0   \n",
      "2019-09-01 01:04:00    uptrend  0.083403  57.6352  72.9412  80.0000  170922.0   \n",
      "\n",
      "                     williams_r  \n",
      "timestamp                        \n",
      "2019-09-01 01:00:00       -20.0  \n",
      "2019-09-01 01:01:00       -10.0  \n",
      "2019-09-01 01:02:00        -5.0  \n",
      "2019-09-01 01:03:00       -10.0  \n",
      "2019-09-01 01:04:00        -5.0  \n"
     ]
    }
   ],
   "source": [
    "ohlcv_df_1min = rk.dataset_manager.get_ohlcv(start_time=classification_train_start_time, end_time=classification_train_end_time)\n",
    "print(ohlcv_df_1min.head())\n",
    "params_df, summary_df, transaction_log_df = rk.get_params_summary_log_df_by_summary_id(id_1_inv)"
   ]
  },
  {
   "cell_type": "code",
   "execution_count": 7,
   "metadata": {},
   "outputs": [
    {
     "name": "stdout",
     "output_type": "stream",
     "text": [
      "  asset_name_x  backtest_summary_id  close_price          close_time  \\\n",
      "0      BTC/USD                 4496       9579.0 2019-09-01 04:00:00   \n",
      "1      BTC/USD                 4496       9624.5 2019-09-01 07:00:00   \n",
      "2      BTC/USD                 4496       9592.5 2019-09-01 08:00:00   \n",
      "3      BTC/USD                 4496       9620.0 2019-09-01 09:00:00   \n",
      "4      BTC/USD                 4496       9624.5 2019-09-01 10:00:00   \n",
      "\n",
      "   current_balance  entry_price          entry_time exchange_name_x      id_x  \\\n",
      "0          113.850       9565.0 2019-09-01 03:30:00          bitmex  27026478   \n",
      "1          126.179       9637.0 2019-09-01 06:30:00          bitmex  27026479   \n",
      "2          148.490       9615.0 2019-09-01 07:30:00          bitmex  27026480   \n",
      "3          146.767       9618.5 2019-09-01 08:30:00          bitmex  27026481   \n",
      "4          150.547       9628.5 2019-09-01 09:30:00          bitmex  27026482   \n",
      "\n",
      "   leverage  lot order_status order_type  price_difference  \\\n",
      "0       1.0  1.0       closed       long              14.0   \n",
      "1       1.0  1.0       closed      short             -12.5   \n",
      "2       1.0  1.0       closed      short             -22.5   \n",
      "3       1.0  1.0       closed      short               1.5   \n",
      "4       1.0  1.0       closed      short              -4.0   \n",
      "\n",
      "   price_difference_percentage  profit_percentage  profit_size profit_status  \\\n",
      "0                     0.146367           13.85000     13.85000           win   \n",
      "1                    -0.129708           10.82940     12.32920           win   \n",
      "2                    -0.234009           17.68180     22.31070           win   \n",
      "3                     0.015595           -1.16017     -1.72273          lose   \n",
      "4                    -0.041543            2.57540      3.77985           win   \n",
      "\n",
      "   transaction_cost           ad asset_name_y      atr   close  \\\n",
      "0          0.150000 -157204000.0      BTC/USD  1.53636  9565.0   \n",
      "1          0.170775 -128293000.0      BTC/USD  6.86000  9637.0   \n",
      "2          0.189269 -134192000.0      BTC/USD  1.88849  9615.0   \n",
      "3          0.222735 -130061000.0      BTC/USD  1.70330  9618.5   \n",
      "4          0.220151 -120047000.0      BTC/USD  1.22975  9628.5   \n",
      "\n",
      "  exchange_name_y    high   id_y     low           obv    open     psar  \\\n",
      "0          bitmex  9565.5  31945  9565.0 -1.893120e+09  9565.5  9560.49   \n",
      "1          bitmex  9637.0  32125  9635.0 -1.909340e+09  9635.0  9616.55   \n",
      "2          bitmex  9615.5  32185  9615.0 -1.915390e+09  9615.5  9621.00   \n",
      "3          bitmex  9618.5  32245  9617.5 -1.916680e+09  9618.0  9610.77   \n",
      "4          bitmex  9629.0  32305  9628.5 -1.910260e+09  9629.0  9634.26   \n",
      "\n",
      "  psar_trend       roc      rsi     slowd     slowk     volume  williams_r  \n",
      "0    uptrend -0.010454  46.5259  39.41800  65.87300    44280.0    -28.5714  \n",
      "1    uptrend  0.171509  56.6168  90.44210  91.11110  1839840.0      0.0000  \n",
      "2  downtrend -0.036388  42.6379   2.22222   3.33333   561380.0    -85.7143  \n",
      "3    uptrend  0.020798  63.7546  30.00000  48.33330   268388.0    -15.0000  \n",
      "4  downtrend -0.005193  55.4187  21.11110  13.33330   122052.0    -62.5000  \n"
     ]
    }
   ],
   "source": [
    "merged_df = rk.pd.merge(transaction_log_df, ohlcv_df_1min, left_on=\"entry_time\", right_on=ohlcv_df_1min.index)\n",
    "print(merged_df.head())\n",
    "#win_transaction_log = transaction_log_df[transaction_log_df.profit_status == \"win\"]\n",
    "#lose_transaction_log = transaction_log_df[transaction_log_df.profit_status == \"lose\"]\n",
    "\n",
    "#win_merged_open  = rk.pd.merge(win_transaction_log, ohlcv_df_1min, left_on=\"entry_time\", right_on=ohlcv_df_1min.index)\n",
    "#lose_merged_open = rk.pd.merge(lose_transaction_log, ohlcv_df_1min, left_on=\"entry_time\", right_on=ohlcv_df_1min.index)\n",
    "\n",
    "#win_merged_test   = win_merged_open[(win_merged_open.entry_time > rk.datetime(2019,12,12,0,0)) & (\n",
    "#    win_merged_open.close_time <= rk.datetime(2019,12,24,0,0))]\n",
    "#win_merged_train  = win_merged_open[win_merged_open.entry_time <= rk.datetime(2019,12,12,0,0)]\n",
    "\n",
    "#lose_merged_test  = lose_merged_open[(lose_merged_open.entry_time > rk.datetime(2019,12,12,0,0)) & (\n",
    "#    lose_merged_open.close_time <= rk.datetime(2019,12,24,0,0))]\n",
    "#lose_merged_train = lose_merged_open[lose_merged_open.close_time <= rk.datetime(2019,12,12,0,0)] # until 12/24"
   ]
  },
  {
   "cell_type": "code",
   "execution_count": 8,
   "metadata": {
    "scrolled": true
   },
   "outputs": [],
   "source": [
    "# data preprocessing\n",
    "\n",
    "test_df = merged_df[(merged_df.entry_time > rk.datetime(2019,12,12,0,0)) & (merged_df.close_time <= rk.datetime(2019,12,24,0,0))]\n",
    "train_df = merged_df[merged_df.entry_time <= rk.datetime(2019,12,12,0,0)]\n",
    "\n",
    "#x_test  = x[(x.entry_time > rk.datetime(2019,12,12,0,0)) & (x.close_time <= rk.datetime(2019,12,24,0,0))]\n",
    "#x_train = x[x.entry_time <= rk.datetime(2019,12,12,0,0)]\n",
    "#y_test  = y[(y.entry_time > rk.datetime(2019,12,12,0,0)) & (y.close_time <= rk.datetime(2019,12,24,0,0))]\n",
    "#y_train = y[y.entry_time <= rk.datetime(2019,12,12,0,0)]\n",
    "\n",
    "#x_test.drop(columns=[\"entry_time\", \"close_time\"])\n",
    "#x_train.drop(columns=[\"entry_time\", \"close_time\"])\n",
    "#y_test.drop(columns=[\"entry_time\", \"close_time\"])\n",
    "#y_train.drop(columns=[\"entry_time\", \"close_time\"])"
   ]
  },
  {
   "cell_type": "code",
   "execution_count": 9,
   "metadata": {},
   "outputs": [],
   "source": [
    "x_test = test_df[[\"ad\", \"atr\", \"obv\", \"psar\", \"roc\", \"rsi\", \"slowd\", \"slowk\", \"volume\", \"williams_r\"]]\n",
    "y_test = test_df[\"profit_status\"]\n",
    "x_train = train_df[[\"ad\", \"atr\", \"obv\", \"psar\", \"roc\", \"rsi\", \"slowd\", \"slowk\", \"volume\", \"williams_r\"]]\n",
    "y_train = train_df[\"profit_status\"]"
   ]
  },
  {
   "cell_type": "code",
   "execution_count": 10,
   "metadata": {},
   "outputs": [],
   "source": [
    "from sklearn.linear_model import LogisticRegression\n",
    "from sklearn.neighbors import KNeighborsClassifier\n",
    "from sklearn.svm import SVC\n",
    "from sklearn.ensemble import RandomForestClassifier\n",
    "\n",
    "from sklearn import metrics"
   ]
  },
  {
   "cell_type": "code",
   "execution_count": 14,
   "metadata": {
    "scrolled": false
   },
   "outputs": [
    {
     "name": "stdout",
     "output_type": "stream",
     "text": [
      "logistic train score\n",
      "0.6114478114478115\n",
      "logistic test score\n",
      "0.75\n",
      "[[111  15]\n",
      " [ 26  12]]\n",
      "lose\n",
      "1648    win\n",
      "Name: profit_status, dtype: object\n"
     ]
    }
   ],
   "source": [
    "logistic = LogisticRegression()\n",
    "logistic.fit(x_train, y_train)\n",
    "print(\"logistic train score\")\n",
    "print(logistic.score(x_train, y_train))\n",
    "print(\"logistic test score\")\n",
    "print(logistic.score(x_test, y_test))\n",
    "print(metrics.confusion_matrix(y_test, logistic.predict(x_test)))\n",
    "print(logistic.predict(x_test.head(1))[0])\n",
    "print(y_test.tail(1))"
   ]
  },
  {
   "cell_type": "code",
   "execution_count": 100,
   "metadata": {},
   "outputs": [
    {
     "name": "stdout",
     "output_type": "stream",
     "text": [
      "knn train score\n",
      "0.773063973063973\n",
      "knn test score\n",
      "0.7621951219512195\n",
      "[[125   1]\n",
      " [ 38   0]]\n"
     ]
    }
   ],
   "source": [
    "knn = KNeighborsClassifier(n_neighbors=2)\n",
    "knn.fit(x_train, y_train)\n",
    "print(\"knn train score\")\n",
    "print(knn.score(x_train, y_train))\n",
    "print(\"knn test score\")\n",
    "print(knn.score(x_test, y_test))\n",
    "print(metrics.confusion_matrix(y_test, knn.predict(x_test)))"
   ]
  },
  {
   "cell_type": "code",
   "execution_count": 41,
   "metadata": {},
   "outputs": [
    {
     "name": "stdout",
     "output_type": "stream",
     "text": [
      "svc train score\n",
      "1.0\n",
      "svc test score\n",
      "0.23170731707317074\n"
     ]
    }
   ],
   "source": [
    "svc = SVC()\n",
    "svc.fit(x_train, y_train)\n",
    "print(\"svc train score\")\n",
    "print(svc.score(x_train, y_train))\n",
    "print(\"svc test score\")\n",
    "print(svc.score(x_test, y_test))"
   ]
  },
  {
   "cell_type": "code",
   "execution_count": 42,
   "metadata": {},
   "outputs": [
    {
     "name": "stdout",
     "output_type": "stream",
     "text": [
      "random forest train score\n",
      "0.9851851851851852\n",
      "random forest test score\n",
      "0.676829268292683\n"
     ]
    }
   ],
   "source": [
    "random_forest = RandomForestClassifier()\n",
    "random_forest.fit(x_train, y_train)\n",
    "print(\"random forest train score\")\n",
    "print(random_forest.score(x_train, y_train))\n",
    "print(\"random forest test score\")\n",
    "print(random_forest.score(x_test, y_test))"
   ]
  },
  {
   "cell_type": "code",
   "execution_count": 48,
   "metadata": {},
   "outputs": [],
   "source": [
    "from keras.models import Sequential\n",
    "from keras.layers import Dense, Activation\n",
    "from keras.callbacks import EarlyStopping"
   ]
  },
  {
   "cell_type": "code",
   "execution_count": 55,
   "metadata": {},
   "outputs": [],
   "source": [
    "y_test_dummy = rk.pd.get_dummies(y_test, drop_first=True)\n",
    "y_train_dummy = rk.pd.get_dummies(y_train, drop_first=True)"
   ]
  },
  {
   "cell_type": "code",
   "execution_count": 56,
   "metadata": {},
   "outputs": [],
   "source": [
    "logistic_deep_model = Sequential()\n",
    "logistic_deep_model.add(Dense(1, input_dim=10, kernel_initializer='uniform'))\n",
    "logistic_deep_model.add(Activation('sigmoid'))\n",
    "logistic_deep_model.compile(optimizer='adam', loss='binary_crossentropy',\n",
    "                  metrics=['accuracy'])"
   ]
  },
  {
   "cell_type": "code",
   "execution_count": 61,
   "metadata": {},
   "outputs": [
    {
     "name": "stdout",
     "output_type": "stream",
     "text": [
      "Train on 1336 samples, validate on 149 samples\n",
      "Epoch 1/1000\n",
      "1336/1336 [==============================] - 0s 94us/step - loss: 162697.6392 - accuracy: 0.5142 - val_loss: 92835.0053 - val_accuracy: 0.3624\n",
      "Epoch 2/1000\n",
      "1336/1336 [==============================] - 0s 95us/step - loss: 175712.2737 - accuracy: 0.5165 - val_loss: 545891.1130 - val_accuracy: 0.6376\n",
      "Epoch 3/1000\n",
      "1336/1336 [==============================] - 0s 101us/step - loss: 264806.1632 - accuracy: 0.4850 - val_loss: 125858.6927 - val_accuracy: 0.6443\n"
     ]
    }
   ],
   "source": [
    "early_stopping = EarlyStopping(monitor='val_loss', patience=2)\n",
    "hist = logistic_deep_model.fit(x_train, y_train_dummy,\n",
    "                 epochs=1000, verbose=1,\n",
    "                 validation_split=0.1,\n",
    "                 callbacks=[early_stopping])\n",
    "                 #validation_data=(x_test, y_test_dummy),\n",
    "                 "
   ]
  },
  {
   "cell_type": "code",
   "execution_count": 62,
   "metadata": {},
   "outputs": [
    {
     "ename": "ValueError",
     "evalue": "x and y must have same first dimension, but have shapes (903,) and (3,)",
     "output_type": "error",
     "traceback": [
      "\u001b[0;31m---------------------------------------------------------------------------\u001b[0m",
      "\u001b[0;31mValueError\u001b[0m                                Traceback (most recent call last)",
      "\u001b[0;32m<ipython-input-62-26eec931e0e0>\u001b[0m in \u001b[0;36m<module>\u001b[0;34m\u001b[0m\n\u001b[1;32m      2\u001b[0m \u001b[0mrk\u001b[0m\u001b[0;34m.\u001b[0m\u001b[0mplt\u001b[0m\u001b[0;34m.\u001b[0m\u001b[0mxlabel\u001b[0m\u001b[0;34m(\u001b[0m\u001b[0;34m'epochs'\u001b[0m\u001b[0;34m)\u001b[0m\u001b[0;34m\u001b[0m\u001b[0;34m\u001b[0m\u001b[0m\n\u001b[1;32m      3\u001b[0m \u001b[0mrk\u001b[0m\u001b[0;34m.\u001b[0m\u001b[0mplt\u001b[0m\u001b[0;34m.\u001b[0m\u001b[0mylabel\u001b[0m\u001b[0;34m(\u001b[0m\u001b[0;34m'val_loss'\u001b[0m\u001b[0;34m)\u001b[0m\u001b[0;34m\u001b[0m\u001b[0;34m\u001b[0m\u001b[0m\n\u001b[0;32m----> 4\u001b[0;31m \u001b[0mrk\u001b[0m\u001b[0;34m.\u001b[0m\u001b[0mplt\u001b[0m\u001b[0;34m.\u001b[0m\u001b[0mplot\u001b[0m\u001b[0;34m(\u001b[0m\u001b[0mrk\u001b[0m\u001b[0;34m.\u001b[0m\u001b[0mnp\u001b[0m\u001b[0;34m.\u001b[0m\u001b[0marange\u001b[0m\u001b[0;34m(\u001b[0m\u001b[0;36m0\u001b[0m\u001b[0;34m,\u001b[0m \u001b[0;36m903\u001b[0m\u001b[0;34m)\u001b[0m\u001b[0;34m,\u001b[0m \u001b[0mhist\u001b[0m\u001b[0;34m.\u001b[0m\u001b[0mhistory\u001b[0m\u001b[0;34m[\u001b[0m\u001b[0;34m'loss'\u001b[0m\u001b[0;34m]\u001b[0m\u001b[0;34m,\u001b[0m \u001b[0mlabel\u001b[0m\u001b[0;34m=\u001b[0m\u001b[0;34m'loss'\u001b[0m\u001b[0;34m)\u001b[0m\u001b[0;34m\u001b[0m\u001b[0;34m\u001b[0m\u001b[0m\n\u001b[0m\u001b[1;32m      5\u001b[0m \u001b[0mrk\u001b[0m\u001b[0;34m.\u001b[0m\u001b[0mplt\u001b[0m\u001b[0;34m.\u001b[0m\u001b[0mplot\u001b[0m\u001b[0;34m(\u001b[0m\u001b[0mrk\u001b[0m\u001b[0;34m.\u001b[0m\u001b[0mnp\u001b[0m\u001b[0;34m.\u001b[0m\u001b[0marange\u001b[0m\u001b[0;34m(\u001b[0m\u001b[0;36m0\u001b[0m\u001b[0;34m,\u001b[0m \u001b[0;36m903\u001b[0m\u001b[0;34m)\u001b[0m\u001b[0;34m,\u001b[0m \u001b[0mhist\u001b[0m\u001b[0;34m.\u001b[0m\u001b[0mhistory\u001b[0m\u001b[0;34m[\u001b[0m\u001b[0;34m'val_loss'\u001b[0m\u001b[0;34m]\u001b[0m\u001b[0;34m,\u001b[0m \u001b[0mlabel\u001b[0m\u001b[0;34m=\u001b[0m\u001b[0;34m'val_loss'\u001b[0m\u001b[0;34m)\u001b[0m\u001b[0;34m\u001b[0m\u001b[0;34m\u001b[0m\u001b[0m\n\u001b[1;32m      6\u001b[0m \u001b[0;34m\u001b[0m\u001b[0m\n",
      "\u001b[0;32m~/anaconda3/lib/python3.7/site-packages/matplotlib/pyplot.py\u001b[0m in \u001b[0;36mplot\u001b[0;34m(scalex, scaley, data, *args, **kwargs)\u001b[0m\n\u001b[1;32m   2809\u001b[0m     return gca().plot(\n\u001b[1;32m   2810\u001b[0m         *args, scalex=scalex, scaley=scaley, **({\"data\": data} if data\n\u001b[0;32m-> 2811\u001b[0;31m         is not None else {}), **kwargs)\n\u001b[0m\u001b[1;32m   2812\u001b[0m \u001b[0;34m\u001b[0m\u001b[0m\n\u001b[1;32m   2813\u001b[0m \u001b[0;34m\u001b[0m\u001b[0m\n",
      "\u001b[0;32m~/anaconda3/lib/python3.7/site-packages/matplotlib/__init__.py\u001b[0m in \u001b[0;36minner\u001b[0;34m(ax, data, *args, **kwargs)\u001b[0m\n\u001b[1;32m   1808\u001b[0m                         \u001b[0;34m\"the Matplotlib list!)\"\u001b[0m \u001b[0;34m%\u001b[0m \u001b[0;34m(\u001b[0m\u001b[0mlabel_namer\u001b[0m\u001b[0;34m,\u001b[0m \u001b[0mfunc\u001b[0m\u001b[0;34m.\u001b[0m\u001b[0m__name__\u001b[0m\u001b[0;34m)\u001b[0m\u001b[0;34m,\u001b[0m\u001b[0;34m\u001b[0m\u001b[0;34m\u001b[0m\u001b[0m\n\u001b[1;32m   1809\u001b[0m                         RuntimeWarning, stacklevel=2)\n\u001b[0;32m-> 1810\u001b[0;31m             \u001b[0;32mreturn\u001b[0m \u001b[0mfunc\u001b[0m\u001b[0;34m(\u001b[0m\u001b[0max\u001b[0m\u001b[0;34m,\u001b[0m \u001b[0;34m*\u001b[0m\u001b[0margs\u001b[0m\u001b[0;34m,\u001b[0m \u001b[0;34m**\u001b[0m\u001b[0mkwargs\u001b[0m\u001b[0;34m)\u001b[0m\u001b[0;34m\u001b[0m\u001b[0;34m\u001b[0m\u001b[0m\n\u001b[0m\u001b[1;32m   1811\u001b[0m \u001b[0;34m\u001b[0m\u001b[0m\n\u001b[1;32m   1812\u001b[0m         inner.__doc__ = _add_data_doc(inner.__doc__,\n",
      "\u001b[0;32m~/anaconda3/lib/python3.7/site-packages/matplotlib/axes/_axes.py\u001b[0m in \u001b[0;36mplot\u001b[0;34m(self, scalex, scaley, *args, **kwargs)\u001b[0m\n\u001b[1;32m   1609\u001b[0m         \u001b[0mkwargs\u001b[0m \u001b[0;34m=\u001b[0m \u001b[0mcbook\u001b[0m\u001b[0;34m.\u001b[0m\u001b[0mnormalize_kwargs\u001b[0m\u001b[0;34m(\u001b[0m\u001b[0mkwargs\u001b[0m\u001b[0;34m,\u001b[0m \u001b[0mmlines\u001b[0m\u001b[0;34m.\u001b[0m\u001b[0mLine2D\u001b[0m\u001b[0;34m.\u001b[0m\u001b[0m_alias_map\u001b[0m\u001b[0;34m)\u001b[0m\u001b[0;34m\u001b[0m\u001b[0;34m\u001b[0m\u001b[0m\n\u001b[1;32m   1610\u001b[0m \u001b[0;34m\u001b[0m\u001b[0m\n\u001b[0;32m-> 1611\u001b[0;31m         \u001b[0;32mfor\u001b[0m \u001b[0mline\u001b[0m \u001b[0;32min\u001b[0m \u001b[0mself\u001b[0m\u001b[0;34m.\u001b[0m\u001b[0m_get_lines\u001b[0m\u001b[0;34m(\u001b[0m\u001b[0;34m*\u001b[0m\u001b[0margs\u001b[0m\u001b[0;34m,\u001b[0m \u001b[0;34m**\u001b[0m\u001b[0mkwargs\u001b[0m\u001b[0;34m)\u001b[0m\u001b[0;34m:\u001b[0m\u001b[0;34m\u001b[0m\u001b[0;34m\u001b[0m\u001b[0m\n\u001b[0m\u001b[1;32m   1612\u001b[0m             \u001b[0mself\u001b[0m\u001b[0;34m.\u001b[0m\u001b[0madd_line\u001b[0m\u001b[0;34m(\u001b[0m\u001b[0mline\u001b[0m\u001b[0;34m)\u001b[0m\u001b[0;34m\u001b[0m\u001b[0;34m\u001b[0m\u001b[0m\n\u001b[1;32m   1613\u001b[0m             \u001b[0mlines\u001b[0m\u001b[0;34m.\u001b[0m\u001b[0mappend\u001b[0m\u001b[0;34m(\u001b[0m\u001b[0mline\u001b[0m\u001b[0;34m)\u001b[0m\u001b[0;34m\u001b[0m\u001b[0;34m\u001b[0m\u001b[0m\n",
      "\u001b[0;32m~/anaconda3/lib/python3.7/site-packages/matplotlib/axes/_base.py\u001b[0m in \u001b[0;36m_grab_next_args\u001b[0;34m(self, *args, **kwargs)\u001b[0m\n\u001b[1;32m    391\u001b[0m                 \u001b[0mthis\u001b[0m \u001b[0;34m+=\u001b[0m \u001b[0margs\u001b[0m\u001b[0;34m[\u001b[0m\u001b[0;36m0\u001b[0m\u001b[0;34m]\u001b[0m\u001b[0;34m,\u001b[0m\u001b[0;34m\u001b[0m\u001b[0;34m\u001b[0m\u001b[0m\n\u001b[1;32m    392\u001b[0m                 \u001b[0margs\u001b[0m \u001b[0;34m=\u001b[0m \u001b[0margs\u001b[0m\u001b[0;34m[\u001b[0m\u001b[0;36m1\u001b[0m\u001b[0;34m:\u001b[0m\u001b[0;34m]\u001b[0m\u001b[0;34m\u001b[0m\u001b[0;34m\u001b[0m\u001b[0m\n\u001b[0;32m--> 393\u001b[0;31m             \u001b[0;32myield\u001b[0m \u001b[0;32mfrom\u001b[0m \u001b[0mself\u001b[0m\u001b[0;34m.\u001b[0m\u001b[0m_plot_args\u001b[0m\u001b[0;34m(\u001b[0m\u001b[0mthis\u001b[0m\u001b[0;34m,\u001b[0m \u001b[0mkwargs\u001b[0m\u001b[0;34m)\u001b[0m\u001b[0;34m\u001b[0m\u001b[0;34m\u001b[0m\u001b[0m\n\u001b[0m\u001b[1;32m    394\u001b[0m \u001b[0;34m\u001b[0m\u001b[0m\n\u001b[1;32m    395\u001b[0m \u001b[0;34m\u001b[0m\u001b[0m\n",
      "\u001b[0;32m~/anaconda3/lib/python3.7/site-packages/matplotlib/axes/_base.py\u001b[0m in \u001b[0;36m_plot_args\u001b[0;34m(self, tup, kwargs)\u001b[0m\n\u001b[1;32m    368\u001b[0m             \u001b[0mx\u001b[0m\u001b[0;34m,\u001b[0m \u001b[0my\u001b[0m \u001b[0;34m=\u001b[0m \u001b[0mindex_of\u001b[0m\u001b[0;34m(\u001b[0m\u001b[0mtup\u001b[0m\u001b[0;34m[\u001b[0m\u001b[0;34m-\u001b[0m\u001b[0;36m1\u001b[0m\u001b[0;34m]\u001b[0m\u001b[0;34m)\u001b[0m\u001b[0;34m\u001b[0m\u001b[0;34m\u001b[0m\u001b[0m\n\u001b[1;32m    369\u001b[0m \u001b[0;34m\u001b[0m\u001b[0m\n\u001b[0;32m--> 370\u001b[0;31m         \u001b[0mx\u001b[0m\u001b[0;34m,\u001b[0m \u001b[0my\u001b[0m \u001b[0;34m=\u001b[0m \u001b[0mself\u001b[0m\u001b[0;34m.\u001b[0m\u001b[0m_xy_from_xy\u001b[0m\u001b[0;34m(\u001b[0m\u001b[0mx\u001b[0m\u001b[0;34m,\u001b[0m \u001b[0my\u001b[0m\u001b[0;34m)\u001b[0m\u001b[0;34m\u001b[0m\u001b[0;34m\u001b[0m\u001b[0m\n\u001b[0m\u001b[1;32m    371\u001b[0m \u001b[0;34m\u001b[0m\u001b[0m\n\u001b[1;32m    372\u001b[0m         \u001b[0;32mif\u001b[0m \u001b[0mself\u001b[0m\u001b[0;34m.\u001b[0m\u001b[0mcommand\u001b[0m \u001b[0;34m==\u001b[0m \u001b[0;34m'plot'\u001b[0m\u001b[0;34m:\u001b[0m\u001b[0;34m\u001b[0m\u001b[0;34m\u001b[0m\u001b[0m\n",
      "\u001b[0;32m~/anaconda3/lib/python3.7/site-packages/matplotlib/axes/_base.py\u001b[0m in \u001b[0;36m_xy_from_xy\u001b[0;34m(self, x, y)\u001b[0m\n\u001b[1;32m    229\u001b[0m         \u001b[0;32mif\u001b[0m \u001b[0mx\u001b[0m\u001b[0;34m.\u001b[0m\u001b[0mshape\u001b[0m\u001b[0;34m[\u001b[0m\u001b[0;36m0\u001b[0m\u001b[0;34m]\u001b[0m \u001b[0;34m!=\u001b[0m \u001b[0my\u001b[0m\u001b[0;34m.\u001b[0m\u001b[0mshape\u001b[0m\u001b[0;34m[\u001b[0m\u001b[0;36m0\u001b[0m\u001b[0;34m]\u001b[0m\u001b[0;34m:\u001b[0m\u001b[0;34m\u001b[0m\u001b[0;34m\u001b[0m\u001b[0m\n\u001b[1;32m    230\u001b[0m             raise ValueError(\"x and y must have same first dimension, but \"\n\u001b[0;32m--> 231\u001b[0;31m                              \"have shapes {} and {}\".format(x.shape, y.shape))\n\u001b[0m\u001b[1;32m    232\u001b[0m         \u001b[0;32mif\u001b[0m \u001b[0mx\u001b[0m\u001b[0;34m.\u001b[0m\u001b[0mndim\u001b[0m \u001b[0;34m>\u001b[0m \u001b[0;36m2\u001b[0m \u001b[0;32mor\u001b[0m \u001b[0my\u001b[0m\u001b[0;34m.\u001b[0m\u001b[0mndim\u001b[0m \u001b[0;34m>\u001b[0m \u001b[0;36m2\u001b[0m\u001b[0;34m:\u001b[0m\u001b[0;34m\u001b[0m\u001b[0;34m\u001b[0m\u001b[0m\n\u001b[1;32m    233\u001b[0m             raise ValueError(\"x and y can be no greater than 2-D, but have \"\n",
      "\u001b[0;31mValueError\u001b[0m: x and y must have same first dimension, but have shapes (903,) and (3,)"
     ]
    },
    {
     "data": {
      "image/png": "[encoded data removed]",
      "text/plain": [
       "<Figure size 432x288 with 1 Axes>"
      ]
     },
     "metadata": {
      "needs_background": "light"
     },
     "output_type": "display_data"
    }
   ],
   "source": [
    "rk.plt.clf()\n",
    "rk.plt.xlabel('epochs')\n",
    "rk.plt.ylabel('val_loss')\n",
    "rk.plt.plot(rk.np.arange(0, 903), hist.history['loss'], label='loss')\n",
    "rk.plt.plot(rk.np.arange(0, 903), hist.history['val_loss'], label='val_loss')\n",
    "\n",
    "#logistic_deep_mode.evaluate(x_test, y_test)"
   ]
  }
 ],
 "metadata": {
  "kernelspec": {
   "display_name": "Python 3",
   "language": "python",
   "name": "python3"
  },
  "language_info": {
   "codemirror_mode": {
    "name": "ipython",
    "version": 3
   },
   "file_extension": ".py",
   "mimetype": "text/x-python",
   "name": "python",
   "nbconvert_exporter": "python",
   "pygments_lexer": "ipython3",
   "version": "3.7.3"
  }
 },
 "nbformat": 4,
 "nbformat_minor": 2
}
