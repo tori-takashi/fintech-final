{
 "cells": [
  {
   "cell_type": "code",
   "execution_count": 1,
   "metadata": {},
   "outputs": [
    {
     "name": "stdout",
     "output_type": "stream",
     "text": [
      "downloading BTC/USD data on bitmex\n",
      "downloading 2020-01-20 02:46:30 ~ 2020-01-20 11:06:30 data\n",
      "6.7% completed\n",
      "downloading 2020-01-20 11:06:30 ~ 2020-01-20 19:26:30 data\n",
      "13.3% completed\n",
      "downloading 2020-01-20 19:26:30 ~ 2020-01-21 03:46:30 data\n",
      "20.0% completed\n",
      "downloading 2020-01-21 03:46:30 ~ 2020-01-21 12:06:30 data\n",
      "26.7% completed\n",
      "downloading 2020-01-21 12:06:30 ~ 2020-01-21 20:26:30 data\n",
      "33.3% completed\n",
      "downloading 2020-01-21 20:26:30 ~ 2020-01-22 04:46:30 data\n",
      "40.0% completed\n",
      "downloading 2020-01-22 04:46:30 ~ 2020-01-22 13:06:30 data\n",
      "46.7% completed\n",
      "downloading 2020-01-22 13:06:30 ~ 2020-01-22 21:26:30 data\n",
      "53.3% completed\n",
      "downloading 2020-01-22 21:26:30 ~ 2020-01-23 05:46:30 data\n",
      "60.0% completed\n",
      "downloading 2020-01-23 05:46:30 ~ 2020-01-23 14:06:30 data\n",
      "66.7% completed\n",
      "downloading 2020-01-23 14:06:30 ~ 2020-01-23 22:26:30 data\n",
      "73.3% completed\n",
      "downloading 2020-01-23 22:26:30 ~ 2020-01-24 06:46:30 data\n",
      "80.0% completed\n",
      "downloading 2020-01-24 06:46:30 ~ 2020-01-24 15:06:30 data\n",
      "86.7% completed\n",
      "downloading 2020-01-24 15:06:30 ~ 2020-01-24 23:26:30 data\n",
      "93.3% completed\n",
      "downloading 2020-01-24 23:26:30 ~ 2020-01-25 01:23:07.916929 data\n",
      "100.0% completed\n",
      "Loading OHLCV data from bitmex_original_ohlcv_1min now...\n"
     ]
    }
   ],
   "source": [
    "import research_kit_bottom_trend_follow as rk\n",
    "rk.pd.set_option(\"display.max_columns\", 250)\n",
    "rk.pd.set_option(\"display.max_rows\", 250)\n",
    "import warnings\n",
    "warnings.filterwarnings('ignore')"
   ]
  },
  {
   "cell_type": "code",
   "execution_count": null,
   "metadata": {},
   "outputs": [],
   "source": [
    "trade_board_data = rk.pd.read_sql(\"SELECT * FROM bitmex_l2_orderbook\", rk.mysql_client.connector)\n",
    "print(len(trade_board_data))"
   ]
  },
  {
   "cell_type": "code",
   "execution_count": null,
   "metadata": {},
   "outputs": [],
   "source": []
  }
 ],
 "metadata": {
  "kernelspec": {
   "display_name": "Python 3",
   "language": "python",
   "name": "python3"
  },
  "language_info": {
   "codemirror_mode": {
    "name": "ipython",
    "version": 3
   },
   "file_extension": ".py",
   "mimetype": "text/x-python",
   "name": "python",
   "nbconvert_exporter": "python",
   "pygments_lexer": "ipython3",
   "version": "3.7.4"
  }
 },
 "nbformat": 4,
 "nbformat_minor": 2
}
