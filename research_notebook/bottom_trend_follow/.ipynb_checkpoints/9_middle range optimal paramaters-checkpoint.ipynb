version https://git-lfs.github.com/spec/v1
oid sha256:5e0964ecd3fea1af9851c71d251a21d26c4ebb0c2775c640323206fc5477eb3c
size 2287609
