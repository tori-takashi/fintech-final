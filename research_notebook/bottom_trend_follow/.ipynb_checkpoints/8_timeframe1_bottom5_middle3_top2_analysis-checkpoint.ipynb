version https://git-lfs.github.com/spec/v1
oid sha256:7ab2395f4d1a75e0577393bcd665ced51fab36c9f123c19461de490464692ef6
size 1861767
