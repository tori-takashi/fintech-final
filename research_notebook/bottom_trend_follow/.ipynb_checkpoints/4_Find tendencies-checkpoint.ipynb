version https://git-lfs.github.com/spec/v1
oid sha256:fc50685d5944f6fff12cbbb7eca5f48a45cea04f3135e77bf2e11b0cc53d0a94
size 632992
