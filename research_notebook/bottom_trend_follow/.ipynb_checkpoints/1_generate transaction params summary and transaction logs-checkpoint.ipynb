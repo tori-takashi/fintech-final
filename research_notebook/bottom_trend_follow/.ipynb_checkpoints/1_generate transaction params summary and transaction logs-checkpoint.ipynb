{
 "cells": [
  {
   "cell_type": "code",
   "execution_count": 1,
   "metadata": {},
   "outputs": [
    {
     "name": "stdout",
     "output_type": "stream",
     "text": [
      "downloading BTC/USD data on bitmex\n",
      "downloading 2019-12-31 16:22:30 ~ 2020-01-01 00:42:30 data\n",
      "10.0% completed\n",
      "downloading 2020-01-01 00:42:30 ~ 2020-01-01 09:02:30 data\n",
      "20.0% completed\n",
      "downloading 2020-01-01 09:02:30 ~ 2020-01-01 17:22:30 data\n",
      "30.0% completed\n",
      "downloading 2020-01-01 17:22:30 ~ 2020-01-02 01:42:30 data\n",
      "40.0% completed\n",
      "downloading 2020-01-02 01:42:30 ~ 2020-01-02 10:02:30 data\n",
      "50.0% completed\n",
      "downloading 2020-01-02 10:02:30 ~ 2020-01-02 18:22:30 data\n",
      "60.0% completed\n",
      "downloading 2020-01-02 18:22:30 ~ 2020-01-03 02:42:30 data\n",
      "70.0% completed\n",
      "downloading 2020-01-03 02:42:30 ~ 2020-01-03 11:02:30 data\n",
      "80.0% completed\n",
      "downloading 2020-01-03 11:02:30 ~ 2020-01-03 19:22:30 data\n",
      "90.0% completed\n",
      "downloading 2020-01-03 19:22:30 ~ 2020-01-04 01:47:55.624940 data\n",
      "100.0% completed\n"
     ]
    }
   ],
   "source": [
    "import research_kit_bottom_trend_follow as rk\n",
    "rk.pd.set_option(\"display.max_columns\", 250)\n",
    "rk.pd.set_option(\"display.max_rows\", 250)\n",
    "import warnings\n",
    "warnings.filterwarnings('ignore')"
   ]
  },
  {
   "cell_type": "code",
   "execution_count": 2,
   "metadata": {},
   "outputs": [],
   "source": [
    "def show_bottom_trend_follow_params(bot):\n",
    "    rk.pprint(bot.combined_params)"
   ]
  },
  {
   "cell_type": "code",
   "execution_count": 3,
   "metadata": {},
   "outputs": [
    {
     "name": "stdout",
     "output_type": "stream",
     "text": [
      "{'bot_name': 'bottom_trend_follow',\n",
      " 'bottom_trend_tick': 12,\n",
      " 'close_position_on_do_nothing': True,\n",
      " 'inverse_trading': False,\n",
      " 'middle_trend_tick': 6,\n",
      " 'timeframe': 60,\n",
      " 'top_trend_tick': 3}\n"
     ]
    }
   ],
   "source": [
    "bot = rk.BottomTrendFollow(db_client=rk.mysql_client, exchange_client=rk.bitmex_exchange_client, is_backtest=True)\n",
    "show_bottom_trend_follow_params(bot)"
   ]
  },
  {
   "cell_type": "code",
   "execution_count": 4,
   "metadata": {},
   "outputs": [],
   "source": [
    "def generate_transaction_log(bot, close_position_on_do_nothing=True, inverse_trading=False):\n",
    "    backtest_start_time = rk.datetime(2019,9,30,11,49)\n",
    "    backtest_end_time = rk.datetime(2019,12,29,11,49)\n",
    "    \n",
    "    ohlcv_df_1min = rk.dataset_manager.get_ohlcv(start_time=backtest_start_time, end_time=backtest_end_time)\n",
    "    print(\"dataset size:\" + str(len(ohlcv_df_1min)))\n",
    "    \n",
    "    timeframe_params = [60,30,10,1]\n",
    "    bottom_trend_tick_params = [5,10,15,20,25,30,35,40,45,50]\n",
    "    middle_trend_tick_params = [3,5,7,9,12,15,18,21,24,27,30]\n",
    "    top_trend_tick_params = [1,2,3,4,5,6,7,8]\n",
    "    \n",
    "    calc_start_time = rk.datetime.now()\n",
    "    \n",
    "    for timeframe in timeframe_params:\n",
    "        print(\"timeframe=>\" + str(timeframe))\n",
    "        for bottom_trend_tick in bottom_trend_tick_params:\n",
    "            for middle_trend_tick in middle_trend_tick_params:           \n",
    "                for top_trend_tick in top_trend_tick_params:\n",
    "                    if bottom_trend_tick <= middle_trend_tick or middle_trend_tick <= top_trend_tick:\n",
    "                        continue\n",
    "                        \n",
    "                    default_params = {\n",
    "                        \"bot_name\": bot.bot_name,\n",
    "                        \"close_position_on_do_nothing\": close_position_on_do_nothing,\n",
    "                        \"inverse_trading\": inverse_trading,\n",
    "                        \"timeframe\": int(timeframe)\n",
    "                    }\n",
    "                    \n",
    "                    specific_params = {\n",
    "                        \"bottom_trend_tick\": int(bottom_trend_tick),\n",
    "                        \"middle_trend_tick\": int(middle_trend_tick),\n",
    "                        \"top_trend_tick\": int(top_trend_tick)\n",
    "                    }\n",
    "                    \n",
    "                    bot.reset_backtest_result_with_params(default_params, specific_params)\n",
    "                    before_run = rk.datetime.now()\n",
    "                    bot.run(ohlcv_df=ohlcv_df_1min[::timeframe], backtest_start_time=backtest_start_time,\n",
    "                           backtest_end_time=backtest_end_time)\n",
    "                    print(\"bottom_trend_tick=>\" + str(bottom_trend_tick) +\\\n",
    "                          \" midle_trend_tick=>\" + str(middle_trend_tick) +\\\n",
    "                          \" top_trend_tick=>\" + str(top_trend_tick) + \" time:\" + str(rk.datetime.now() - before_run))\n",
    "        bot.bulk_insert()\n",
    "    print(\"total processing time:\" + str(rk.datetime.now() - calc_start_time))\n",
    "\n",
    "#generate_transaction_log(bot)\n",
    "# it takes more than 4hours to calculate all wuth insert after getting transaction log before commit \"optimize metrics calc\"\n",
    "\n",
    "#generate_transaction_log(bot, inverse_trading=False)\n",
    "#generate_transaction_log(bot, inverse_trading=True)\n",
    "# it takes 1hour + 10 min to caluculate the first one after update.\n",
    "# it takes 1hour + 40 min to caluculate the second one after update"
   ]
  }
 ],
 "metadata": {
  "kernelspec": {
   "display_name": "Python 3",
   "language": "python",
   "name": "python3"
  },
  "language_info": {
   "codemirror_mode": {
    "name": "ipython",
    "version": 3
   },
   "file_extension": ".py",
   "mimetype": "text/x-python",
   "name": "python",
   "nbconvert_exporter": "python",
   "pygments_lexer": "ipython3",
   "version": "3.7.3"
  }
 },
 "nbformat": 4,
 "nbformat_minor": 2
}
