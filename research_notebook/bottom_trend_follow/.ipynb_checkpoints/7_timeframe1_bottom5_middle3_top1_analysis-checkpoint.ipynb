version https://git-lfs.github.com/spec/v1
oid sha256:8368239fd6817fd11dc0f69a1bd02ec0f9f79859f72db8991ac0239846066a59
size 333753
