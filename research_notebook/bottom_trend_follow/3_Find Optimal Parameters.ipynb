{
 "cells": [
  {
   "cell_type": "markdown",
   "metadata": {},
   "source": [
    "# Find Optimal Parameters\n",
    "\n",
    "Subsequently, find optimal parameters.\n",
    "\n",
    "In the first place, record average ranking for each parameters.\n",
    "Larger ticks are tend to be more influence the result of trading, therefore, calculate the ranking ordered by bottom -> middle -> top.\n",
    "Finally regard these optimal paramaters as the representative paramaters.\n",
    "\n",
    "続いてはこの中から最適なパラメータを探索する。\n",
    "\n",
    "まず各timeframeごとに、それぞれのパラメーターに対して平均的な順位を記録する。\n",
    "結果への影響力は、短期的な価格変動の効果を受けにくい順に大きいため、bottom -> middle -> topの順で平均的な順位を計算する。\n",
    "その中で得られた最適なパラメータを各タイムフレームの代表的なパラメーターとする。"
   ]
  },
  {
   "cell_type": "code",
   "execution_count": 1,
   "metadata": {},
   "outputs": [
    {
     "name": "stdout",
     "output_type": "stream",
     "text": [
      "downloading BTC/USD data on bitmex\n",
      "downloading 2020-01-06 22:52:30 ~ 2020-01-07 07:12:30 data\n",
      "50.0% completed\n",
      "downloading 2020-01-07 07:12:30 ~ 2020-01-07 11:09:18.317032 data\n",
      "100.0% completed\n",
      "Loading OHLCV data from bitmex_original_ohlcv_1min now...\n",
      "data loaded\n"
     ]
    }
   ],
   "source": [
    "%matplotlib inline\n",
    "import research_kit_bottom_trend_follow as rk\n",
    "\n",
    "merged_results = rk.get_joined_params_and_summary()\n",
    "\n",
    "normal_results = merged_results.query(\"inverse_trading == False\")\n",
    "inversed_results = merged_results.query(\"inverse_trading == True\")"
   ]
  },
  {
   "cell_type": "code",
   "execution_count": 2,
   "metadata": {},
   "outputs": [],
   "source": []
  },
  {
   "cell_type": "code",
   "execution_count": 3,
   "metadata": {},
   "outputs": [],
   "source": []
  },
  {
   "cell_type": "code",
   "execution_count": 4,
   "metadata": {},
   "outputs": [],
   "source": [
    "def find_optimal_parameters_by_ranking(df, verbose=False):\n",
    "    sorted_df_in_need = df[[\n",
    "        \"timeframe\",\n",
    "        \"bottom_trend_tick\",\n",
    "        \"middle_trend_tick\",\n",
    "        \"top_trend_tick\",\n",
    "        \"profit_factor\"]\n",
    "    ].sort_values(\"profit_factor\", ascending=False)\n",
    "    \n",
    "    timeframe_params = [60,30,10,1]\n",
    "    bottom_trend_tick_params = [5,10,15,20,25,30,35,40,45,50]\n",
    "    middle_trend_tick_params = [3,5,7,9,12,15,18,21,24,27,30]\n",
    "    top_trend_tick_params = [1,2,3,4,5,6,7,8]\n",
    "    \n",
    "    for timeframe in timeframe_params:\n",
    "        print(\"calc optimal parameters for timeframe:\" + str(timeframe))\n",
    "        sorted_df_in_need_with_timeframe = sorted_df_in_need.query(\"timeframe ==\" + str(timeframe))\n",
    "        if verbose:\n",
    "            print(\"bottom\")\n",
    "        optimal_bottom = find_best_ranking_parameter(sorted_df_in_need_with_timeframe,\n",
    "            bottom_trend_tick_params, verbose=verbose)\n",
    "        if verbose:\n",
    "            print(\"middle with bottom => \" + str(optimal_bottom) )\n",
    "        optimal_middle = find_best_ranking_parameter(sorted_df_in_need_with_timeframe,\n",
    "            middle_trend_tick_params, bottom_trend_tick=optimal_bottom, verbose=verbose)\n",
    "        if verbose:\n",
    "            print(\"top with bottom => \" + str(optimal_bottom) + \" middle => \" + str(optimal_middle))\n",
    "        optimal_top = find_best_ranking_parameter(sorted_df_in_need_with_timeframe,\n",
    "            top_trend_tick_params, bottom_trend_tick=optimal_bottom, middle_trend_tick=optimal_middle, verbose=verbose)\n",
    "        \n",
    "        print(\"optimal bottom => \" + str(optimal_bottom) + \" middle => \" +\\\n",
    "              str(optimal_middle) + \"top => \" + str(optimal_top))"
   ]
  },
  {
   "cell_type": "code",
   "execution_count": 8,
   "metadata": {
    "scrolled": false
   },
   "outputs": [
    {
     "name": "stdout",
     "output_type": "stream",
     "text": [
      "calc optimal parameters for timeframe:60\n",
      "optimal bottom => 5 middle => 3top => 2\n",
      "calc optimal parameters for timeframe:30\n",
      "optimal bottom => 10 middle => 3top => 1\n",
      "calc optimal parameters for timeframe:10\n",
      "optimal bottom => 5 middle => 3top => 1\n",
      "calc optimal parameters for timeframe:1\n",
      "optimal bottom => 10 middle => 3top => 1\n",
      "calc optimal parameters for timeframe:60\n",
      "optimal bottom => 5 middle => 3top => 1\n",
      "calc optimal parameters for timeframe:30\n",
      "optimal bottom => 10 middle => 3top => 1\n",
      "calc optimal parameters for timeframe:10\n",
      "optimal bottom => 5 middle => 3top => 1\n",
      "calc optimal parameters for timeframe:1\n",
      "optimal bottom => 10 middle => 3top => 1\n"
     ]
    }
   ],
   "source": [
    "find_optimal_parameters_by_ranking(normal_results, verbose=False)\n",
    "find_optimal_parameters_by_ranking(inversed_results, verbose=False)"
   ]
  },
  {
   "cell_type": "markdown",
   "metadata": {},
   "source": [
    "# Find Optimal Parameters Summary\n",
    "\n",
    "The result shows that bottom=>5, middle=>3, top=>1 is the best combination for all timeframe except for timeframe=60.\n",
    "However, timeframe=60 is no more important than shorter timeframe, so it's ignorable.\n",
    "From now, discuss with expected optimal hyperparamaters timeframe=>1, bottom=>5, middle=>3, top=>1 and focus on details under timeframe=1.\n",
    "\n",
    "timeframe=60を除いたすべての時間軸に対してbottom=>5, middle=>3, top=>1が最適であるという結果が得られた。\n",
    "timeframe=60は、より短い時間足に比べてそこまで重要ではないので無視する。\n",
    "ここまでで時間足が1, bottomが5, middleが3, topが1の場合が最適であることが予想される。\n",
    "ここからはまず、この時間足について詳細に検討する。"
   ]
  }
 ],
 "metadata": {
  "kernelspec": {
   "display_name": "Python 3",
   "language": "python",
   "name": "python3"
  },
  "language_info": {
   "codemirror_mode": {
    "name": "ipython",
    "version": 3
   },
   "file_extension": ".py",
   "mimetype": "text/x-python",
   "name": "python",
   "nbconvert_exporter": "python",
   "pygments_lexer": "ipython3",
   "version": "3.7.4"
  }
 },
 "nbformat": 4,
 "nbformat_minor": 2
}
