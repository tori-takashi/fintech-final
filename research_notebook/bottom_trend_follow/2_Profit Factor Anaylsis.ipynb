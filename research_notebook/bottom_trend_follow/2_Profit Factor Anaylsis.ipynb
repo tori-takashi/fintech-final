version https://git-lfs.github.com/spec/v1
oid sha256:d3bd75c7a29e8223cde75b313e9783d60b0a26bb9e0b7aaa6b8c8e0017a6e8f4
size 97450
