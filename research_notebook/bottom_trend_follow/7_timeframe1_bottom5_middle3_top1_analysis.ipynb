version https://git-lfs.github.com/spec/v1
oid sha256:40103a3a894c0d0d7121bd73843c3a285f977eddc3a6f42680c3933498ec6ab6
size 508278
