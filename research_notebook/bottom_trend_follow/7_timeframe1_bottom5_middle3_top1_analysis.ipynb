version https://git-lfs.github.com/spec/v1
oid sha256:1398650181c868e33ead9d754296a614b94c7d6aa03928304a2b2a20be51c243
size 650002
