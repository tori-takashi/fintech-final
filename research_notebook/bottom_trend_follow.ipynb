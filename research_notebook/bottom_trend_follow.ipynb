version https://git-lfs.github.com/spec/v1
oid sha256:9c724064a887c300ad6d70de7011846087c13433d62f3c15c15eb8bf5e7efce3
size 1160756
