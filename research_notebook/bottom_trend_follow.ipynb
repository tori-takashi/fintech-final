version https://git-lfs.github.com/spec/v1
oid sha256:9a952a9a904edd2705356f0813cf83cdaed9db8e1aaeb4578df177b4c3e68aea
size 620
