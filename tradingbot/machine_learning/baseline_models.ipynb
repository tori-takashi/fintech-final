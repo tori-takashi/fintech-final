{
 "cells": [
  {
   "cell_type": "code",
   "execution_count": 1,
   "metadata": {},
   "outputs": [],
   "source": [
    "import pandas as pd"
   ]
  },
  {
   "cell_type": "code",
   "execution_count": 2,
   "metadata": {},
   "outputs": [],
   "source": [
    "df = pd.read_csv(\"../data-preprocessing/csv/ohlcv_with_future_v5.csv\",date_parser=True)"
   ]
  },
  {
   "cell_type": "code",
   "execution_count": 3,
   "metadata": {},
   "outputs": [],
   "source": [
    "df = df.dropna(axis=0)"
   ]
  },
  {
   "cell_type": "code",
   "execution_count": 4,
   "metadata": {},
   "outputs": [
    {
     "data": {
      "text/html": [
       "<div>\n",
       "<style scoped>\n",
       "    .dataframe tbody tr th:only-of-type {\n",
       "        vertical-align: middle;\n",
       "    }\n",
       "\n",
       "    .dataframe tbody tr th {\n",
       "        vertical-align: top;\n",
       "    }\n",
       "\n",
       "    .dataframe thead th {\n",
       "        text-align: right;\n",
       "    }\n",
       "</style>\n",
       "<table border=\"1\" class=\"dataframe\">\n",
       "  <thead>\n",
       "    <tr style=\"text-align: right;\">\n",
       "      <th></th>\n",
       "      <th>timestamp</th>\n",
       "      <th>open</th>\n",
       "      <th>high</th>\n",
       "      <th>low</th>\n",
       "      <th>close</th>\n",
       "      <th>volume</th>\n",
       "      <th>close_1min</th>\n",
       "      <th>close_5min</th>\n",
       "      <th>close_10min</th>\n",
       "      <th>close_c_1min</th>\n",
       "      <th>...</th>\n",
       "      <th>close_c_10min</th>\n",
       "      <th>rsi</th>\n",
       "      <th>k</th>\n",
       "      <th>d</th>\n",
       "      <th>williams_r</th>\n",
       "      <th>macd</th>\n",
       "      <th>rate_of_change</th>\n",
       "      <th>on_balance_volume</th>\n",
       "      <th>weighted_moving_average</th>\n",
       "      <th>normalized_average_true_range</th>\n",
       "    </tr>\n",
       "  </thead>\n",
       "  <tbody>\n",
       "    <tr>\n",
       "      <td>33</td>\n",
       "      <td>2019-08-06 13:10:00</td>\n",
       "      <td>11706.5</td>\n",
       "      <td>11706.5</td>\n",
       "      <td>11706.0</td>\n",
       "      <td>11706.5</td>\n",
       "      <td>325002.0</td>\n",
       "      <td>11717.5</td>\n",
       "      <td>11732.0</td>\n",
       "      <td>11736.5</td>\n",
       "      <td>1.0</td>\n",
       "      <td>...</td>\n",
       "      <td>1.0</td>\n",
       "      <td>70.959791</td>\n",
       "      <td>61.712963</td>\n",
       "      <td>72.669753</td>\n",
       "      <td>-20.895522</td>\n",
       "      <td>10.711134</td>\n",
       "      <td>0.149713</td>\n",
       "      <td>15010057.0</td>\n",
       "      <td>11691.848387</td>\n",
       "      <td>0.032642</td>\n",
       "    </tr>\n",
       "    <tr>\n",
       "      <td>34</td>\n",
       "      <td>2019-08-06 13:11:00</td>\n",
       "      <td>11706.5</td>\n",
       "      <td>11717.5</td>\n",
       "      <td>11706.0</td>\n",
       "      <td>11717.5</td>\n",
       "      <td>2707734.0</td>\n",
       "      <td>11724.0</td>\n",
       "      <td>11748.0</td>\n",
       "      <td>11735.0</td>\n",
       "      <td>1.0</td>\n",
       "      <td>...</td>\n",
       "      <td>1.0</td>\n",
       "      <td>76.767153</td>\n",
       "      <td>74.305556</td>\n",
       "      <td>69.537037</td>\n",
       "      <td>-0.000000</td>\n",
       "      <td>11.401959</td>\n",
       "      <td>0.239531</td>\n",
       "      <td>17717791.0</td>\n",
       "      <td>11693.987097</td>\n",
       "      <td>0.037293</td>\n",
       "    </tr>\n",
       "    <tr>\n",
       "      <td>35</td>\n",
       "      <td>2019-08-06 13:12:00</td>\n",
       "      <td>11717.5</td>\n",
       "      <td>11724.0</td>\n",
       "      <td>11717.0</td>\n",
       "      <td>11724.0</td>\n",
       "      <td>5644187.0</td>\n",
       "      <td>11733.0</td>\n",
       "      <td>11740.0</td>\n",
       "      <td>11728.5</td>\n",
       "      <td>1.0</td>\n",
       "      <td>...</td>\n",
       "      <td>1.0</td>\n",
       "      <td>79.389944</td>\n",
       "      <td>85.416667</td>\n",
       "      <td>73.811728</td>\n",
       "      <td>-0.000000</td>\n",
       "      <td>12.331784</td>\n",
       "      <td>0.277980</td>\n",
       "      <td>23361978.0</td>\n",
       "      <td>11696.437634</td>\n",
       "      <td>0.038874</td>\n",
       "    </tr>\n",
       "    <tr>\n",
       "      <td>36</td>\n",
       "      <td>2019-08-06 13:13:00</td>\n",
       "      <td>11724.0</td>\n",
       "      <td>11738.0</td>\n",
       "      <td>11723.5</td>\n",
       "      <td>11733.0</td>\n",
       "      <td>7255254.0</td>\n",
       "      <td>11732.0</td>\n",
       "      <td>11736.5</td>\n",
       "      <td>11727.0</td>\n",
       "      <td>0.0</td>\n",
       "      <td>...</td>\n",
       "      <td>0.0</td>\n",
       "      <td>82.359467</td>\n",
       "      <td>94.949495</td>\n",
       "      <td>84.890572</td>\n",
       "      <td>-10.204082</td>\n",
       "      <td>13.637696</td>\n",
       "      <td>0.354959</td>\n",
       "      <td>30617232.0</td>\n",
       "      <td>11699.341935</td>\n",
       "      <td>0.044897</td>\n",
       "    </tr>\n",
       "    <tr>\n",
       "      <td>37</td>\n",
       "      <td>2019-08-06 13:14:00</td>\n",
       "      <td>11733.0</td>\n",
       "      <td>11734.5</td>\n",
       "      <td>11732.0</td>\n",
       "      <td>11732.0</td>\n",
       "      <td>1880741.0</td>\n",
       "      <td>11732.0</td>\n",
       "      <td>11739.5</td>\n",
       "      <td>11728.0</td>\n",
       "      <td>1.0</td>\n",
       "      <td>...</td>\n",
       "      <td>0.0</td>\n",
       "      <td>80.963614</td>\n",
       "      <td>88.699495</td>\n",
       "      <td>89.688552</td>\n",
       "      <td>-12.244898</td>\n",
       "      <td>14.425658</td>\n",
       "      <td>0.333533</td>\n",
       "      <td>28736491.0</td>\n",
       "      <td>11702.036559</td>\n",
       "      <td>0.043216</td>\n",
       "    </tr>\n",
       "  </tbody>\n",
       "</table>\n",
       "<p>5 rows × 21 columns</p>\n",
       "</div>"
      ],
      "text/plain": [
       "              timestamp     open     high      low    close     volume  \\\n",
       "33  2019-08-06 13:10:00  11706.5  11706.5  11706.0  11706.5   325002.0   \n",
       "34  2019-08-06 13:11:00  11706.5  11717.5  11706.0  11717.5  2707734.0   \n",
       "35  2019-08-06 13:12:00  11717.5  11724.0  11717.0  11724.0  5644187.0   \n",
       "36  2019-08-06 13:13:00  11724.0  11738.0  11723.5  11733.0  7255254.0   \n",
       "37  2019-08-06 13:14:00  11733.0  11734.5  11732.0  11732.0  1880741.0   \n",
       "\n",
       "    close_1min  close_5min  close_10min  close_c_1min  ...  close_c_10min  \\\n",
       "33     11717.5     11732.0      11736.5           1.0  ...            1.0   \n",
       "34     11724.0     11748.0      11735.0           1.0  ...            1.0   \n",
       "35     11733.0     11740.0      11728.5           1.0  ...            1.0   \n",
       "36     11732.0     11736.5      11727.0           0.0  ...            0.0   \n",
       "37     11732.0     11739.5      11728.0           1.0  ...            0.0   \n",
       "\n",
       "          rsi          k          d  williams_r       macd  rate_of_change  \\\n",
       "33  70.959791  61.712963  72.669753  -20.895522  10.711134        0.149713   \n",
       "34  76.767153  74.305556  69.537037   -0.000000  11.401959        0.239531   \n",
       "35  79.389944  85.416667  73.811728   -0.000000  12.331784        0.277980   \n",
       "36  82.359467  94.949495  84.890572  -10.204082  13.637696        0.354959   \n",
       "37  80.963614  88.699495  89.688552  -12.244898  14.425658        0.333533   \n",
       "\n",
       "    on_balance_volume  weighted_moving_average  normalized_average_true_range  \n",
       "33         15010057.0             11691.848387                       0.032642  \n",
       "34         17717791.0             11693.987097                       0.037293  \n",
       "35         23361978.0             11696.437634                       0.038874  \n",
       "36         30617232.0             11699.341935                       0.044897  \n",
       "37         28736491.0             11702.036559                       0.043216  \n",
       "\n",
       "[5 rows x 21 columns]"
      ]
     },
     "execution_count": 4,
     "metadata": {},
     "output_type": "execute_result"
    }
   ],
   "source": [
    "df.head()"
   ]
  },
  {
   "cell_type": "code",
   "execution_count": 5,
   "metadata": {},
   "outputs": [],
   "source": [
    "df = df.drop(columns=['timestamp','close_1min','close_5min','close_10min','close_c_5min','close_c_10min'], axis=1)"
   ]
  },
  {
   "cell_type": "code",
   "execution_count": 6,
   "metadata": {},
   "outputs": [
    {
     "data": {
      "text/html": [
       "<div>\n",
       "<style scoped>\n",
       "    .dataframe tbody tr th:only-of-type {\n",
       "        vertical-align: middle;\n",
       "    }\n",
       "\n",
       "    .dataframe tbody tr th {\n",
       "        vertical-align: top;\n",
       "    }\n",
       "\n",
       "    .dataframe thead th {\n",
       "        text-align: right;\n",
       "    }\n",
       "</style>\n",
       "<table border=\"1\" class=\"dataframe\">\n",
       "  <thead>\n",
       "    <tr style=\"text-align: right;\">\n",
       "      <th></th>\n",
       "      <th>open</th>\n",
       "      <th>high</th>\n",
       "      <th>low</th>\n",
       "      <th>close</th>\n",
       "      <th>volume</th>\n",
       "      <th>close_c_1min</th>\n",
       "      <th>rsi</th>\n",
       "      <th>k</th>\n",
       "      <th>d</th>\n",
       "      <th>williams_r</th>\n",
       "      <th>macd</th>\n",
       "      <th>rate_of_change</th>\n",
       "      <th>on_balance_volume</th>\n",
       "      <th>weighted_moving_average</th>\n",
       "      <th>normalized_average_true_range</th>\n",
       "    </tr>\n",
       "  </thead>\n",
       "  <tbody>\n",
       "    <tr>\n",
       "      <td>33</td>\n",
       "      <td>11706.5</td>\n",
       "      <td>11706.5</td>\n",
       "      <td>11706.0</td>\n",
       "      <td>11706.5</td>\n",
       "      <td>325002.0</td>\n",
       "      <td>1.0</td>\n",
       "      <td>70.959791</td>\n",
       "      <td>61.712963</td>\n",
       "      <td>72.669753</td>\n",
       "      <td>-20.895522</td>\n",
       "      <td>10.711134</td>\n",
       "      <td>0.149713</td>\n",
       "      <td>15010057.0</td>\n",
       "      <td>11691.848387</td>\n",
       "      <td>0.032642</td>\n",
       "    </tr>\n",
       "    <tr>\n",
       "      <td>34</td>\n",
       "      <td>11706.5</td>\n",
       "      <td>11717.5</td>\n",
       "      <td>11706.0</td>\n",
       "      <td>11717.5</td>\n",
       "      <td>2707734.0</td>\n",
       "      <td>1.0</td>\n",
       "      <td>76.767153</td>\n",
       "      <td>74.305556</td>\n",
       "      <td>69.537037</td>\n",
       "      <td>-0.000000</td>\n",
       "      <td>11.401959</td>\n",
       "      <td>0.239531</td>\n",
       "      <td>17717791.0</td>\n",
       "      <td>11693.987097</td>\n",
       "      <td>0.037293</td>\n",
       "    </tr>\n",
       "    <tr>\n",
       "      <td>35</td>\n",
       "      <td>11717.5</td>\n",
       "      <td>11724.0</td>\n",
       "      <td>11717.0</td>\n",
       "      <td>11724.0</td>\n",
       "      <td>5644187.0</td>\n",
       "      <td>1.0</td>\n",
       "      <td>79.389944</td>\n",
       "      <td>85.416667</td>\n",
       "      <td>73.811728</td>\n",
       "      <td>-0.000000</td>\n",
       "      <td>12.331784</td>\n",
       "      <td>0.277980</td>\n",
       "      <td>23361978.0</td>\n",
       "      <td>11696.437634</td>\n",
       "      <td>0.038874</td>\n",
       "    </tr>\n",
       "    <tr>\n",
       "      <td>36</td>\n",
       "      <td>11724.0</td>\n",
       "      <td>11738.0</td>\n",
       "      <td>11723.5</td>\n",
       "      <td>11733.0</td>\n",
       "      <td>7255254.0</td>\n",
       "      <td>0.0</td>\n",
       "      <td>82.359467</td>\n",
       "      <td>94.949495</td>\n",
       "      <td>84.890572</td>\n",
       "      <td>-10.204082</td>\n",
       "      <td>13.637696</td>\n",
       "      <td>0.354959</td>\n",
       "      <td>30617232.0</td>\n",
       "      <td>11699.341935</td>\n",
       "      <td>0.044897</td>\n",
       "    </tr>\n",
       "    <tr>\n",
       "      <td>37</td>\n",
       "      <td>11733.0</td>\n",
       "      <td>11734.5</td>\n",
       "      <td>11732.0</td>\n",
       "      <td>11732.0</td>\n",
       "      <td>1880741.0</td>\n",
       "      <td>1.0</td>\n",
       "      <td>80.963614</td>\n",
       "      <td>88.699495</td>\n",
       "      <td>89.688552</td>\n",
       "      <td>-12.244898</td>\n",
       "      <td>14.425658</td>\n",
       "      <td>0.333533</td>\n",
       "      <td>28736491.0</td>\n",
       "      <td>11702.036559</td>\n",
       "      <td>0.043216</td>\n",
       "    </tr>\n",
       "  </tbody>\n",
       "</table>\n",
       "</div>"
      ],
      "text/plain": [
       "       open     high      low    close     volume  close_c_1min        rsi  \\\n",
       "33  11706.5  11706.5  11706.0  11706.5   325002.0           1.0  70.959791   \n",
       "34  11706.5  11717.5  11706.0  11717.5  2707734.0           1.0  76.767153   \n",
       "35  11717.5  11724.0  11717.0  11724.0  5644187.0           1.0  79.389944   \n",
       "36  11724.0  11738.0  11723.5  11733.0  7255254.0           0.0  82.359467   \n",
       "37  11733.0  11734.5  11732.0  11732.0  1880741.0           1.0  80.963614   \n",
       "\n",
       "            k          d  williams_r       macd  rate_of_change  \\\n",
       "33  61.712963  72.669753  -20.895522  10.711134        0.149713   \n",
       "34  74.305556  69.537037   -0.000000  11.401959        0.239531   \n",
       "35  85.416667  73.811728   -0.000000  12.331784        0.277980   \n",
       "36  94.949495  84.890572  -10.204082  13.637696        0.354959   \n",
       "37  88.699495  89.688552  -12.244898  14.425658        0.333533   \n",
       "\n",
       "    on_balance_volume  weighted_moving_average  normalized_average_true_range  \n",
       "33         15010057.0             11691.848387                       0.032642  \n",
       "34         17717791.0             11693.987097                       0.037293  \n",
       "35         23361978.0             11696.437634                       0.038874  \n",
       "36         30617232.0             11699.341935                       0.044897  \n",
       "37         28736491.0             11702.036559                       0.043216  "
      ]
     },
     "execution_count": 6,
     "metadata": {},
     "output_type": "execute_result"
    }
   ],
   "source": [
    "df.head()"
   ]
  },
  {
   "cell_type": "code",
   "execution_count": 7,
   "metadata": {},
   "outputs": [],
   "source": [
    "def normalizeDataframe(data_frame):\n",
    "    normalize_df = data_frame.copy()\n",
    "    for column in normalize_df.columns:\n",
    "        min_value = min(normalize_df[column])\n",
    "        max_value = max(normalize_df[column])\n",
    "        normalize_df[column] = (normalize_df[column] - min_value) / (max_value - min_value)\n",
    "    return normalize_df"
   ]
  },
  {
   "cell_type": "code",
   "execution_count": 8,
   "metadata": {},
   "outputs": [],
   "source": [
    "df = normalizeDataframe(df)"
   ]
  },
  {
   "cell_type": "code",
   "execution_count": 9,
   "metadata": {},
   "outputs": [
    {
     "data": {
      "text/html": [
       "<div>\n",
       "<style scoped>\n",
       "    .dataframe tbody tr th:only-of-type {\n",
       "        vertical-align: middle;\n",
       "    }\n",
       "\n",
       "    .dataframe tbody tr th {\n",
       "        vertical-align: top;\n",
       "    }\n",
       "\n",
       "    .dataframe thead th {\n",
       "        text-align: right;\n",
       "    }\n",
       "</style>\n",
       "<table border=\"1\" class=\"dataframe\">\n",
       "  <thead>\n",
       "    <tr style=\"text-align: right;\">\n",
       "      <th></th>\n",
       "      <th>open</th>\n",
       "      <th>high</th>\n",
       "      <th>low</th>\n",
       "      <th>close</th>\n",
       "      <th>volume</th>\n",
       "      <th>close_c_1min</th>\n",
       "      <th>rsi</th>\n",
       "      <th>k</th>\n",
       "      <th>d</th>\n",
       "      <th>williams_r</th>\n",
       "      <th>macd</th>\n",
       "      <th>rate_of_change</th>\n",
       "      <th>on_balance_volume</th>\n",
       "      <th>weighted_moving_average</th>\n",
       "      <th>normalized_average_true_range</th>\n",
       "    </tr>\n",
       "  </thead>\n",
       "  <tbody>\n",
       "    <tr>\n",
       "      <td>33</td>\n",
       "      <td>0.876721</td>\n",
       "      <td>0.872625</td>\n",
       "      <td>0.878350</td>\n",
       "      <td>0.876721</td>\n",
       "      <td>0.002851</td>\n",
       "      <td>1.0</td>\n",
       "      <td>0.714517</td>\n",
       "      <td>0.617130</td>\n",
       "      <td>0.726698</td>\n",
       "      <td>0.791045</td>\n",
       "      <td>0.514965</td>\n",
       "      <td>0.433476</td>\n",
       "      <td>0.896611</td>\n",
       "      <td>0.878493</td>\n",
       "      <td>0.019952</td>\n",
       "    </tr>\n",
       "    <tr>\n",
       "      <td>34</td>\n",
       "      <td>0.876721</td>\n",
       "      <td>0.874837</td>\n",
       "      <td>0.878350</td>\n",
       "      <td>0.878931</td>\n",
       "      <td>0.023778</td>\n",
       "      <td>1.0</td>\n",
       "      <td>0.773412</td>\n",
       "      <td>0.743056</td>\n",
       "      <td>0.695370</td>\n",
       "      <td>1.000000</td>\n",
       "      <td>0.516564</td>\n",
       "      <td>0.438635</td>\n",
       "      <td>0.897415</td>\n",
       "      <td>0.878928</td>\n",
       "      <td>0.023349</td>\n",
       "    </tr>\n",
       "    <tr>\n",
       "      <td>35</td>\n",
       "      <td>0.878931</td>\n",
       "      <td>0.876144</td>\n",
       "      <td>0.880542</td>\n",
       "      <td>0.880237</td>\n",
       "      <td>0.049569</td>\n",
       "      <td>1.0</td>\n",
       "      <td>0.800011</td>\n",
       "      <td>0.854167</td>\n",
       "      <td>0.738117</td>\n",
       "      <td>1.000000</td>\n",
       "      <td>0.518717</td>\n",
       "      <td>0.440844</td>\n",
       "      <td>0.899091</td>\n",
       "      <td>0.879427</td>\n",
       "      <td>0.024505</td>\n",
       "    </tr>\n",
       "    <tr>\n",
       "      <td>36</td>\n",
       "      <td>0.880237</td>\n",
       "      <td>0.878958</td>\n",
       "      <td>0.881837</td>\n",
       "      <td>0.882046</td>\n",
       "      <td>0.063719</td>\n",
       "      <td>0.0</td>\n",
       "      <td>0.830127</td>\n",
       "      <td>0.949495</td>\n",
       "      <td>0.848906</td>\n",
       "      <td>0.897959</td>\n",
       "      <td>0.521741</td>\n",
       "      <td>0.445265</td>\n",
       "      <td>0.901245</td>\n",
       "      <td>0.880018</td>\n",
       "      <td>0.028904</td>\n",
       "    </tr>\n",
       "    <tr>\n",
       "      <td>37</td>\n",
       "      <td>0.882046</td>\n",
       "      <td>0.878255</td>\n",
       "      <td>0.883531</td>\n",
       "      <td>0.881845</td>\n",
       "      <td>0.016515</td>\n",
       "      <td>1.0</td>\n",
       "      <td>0.815971</td>\n",
       "      <td>0.886995</td>\n",
       "      <td>0.896886</td>\n",
       "      <td>0.877551</td>\n",
       "      <td>0.523566</td>\n",
       "      <td>0.444035</td>\n",
       "      <td>0.900687</td>\n",
       "      <td>0.880567</td>\n",
       "      <td>0.027676</td>\n",
       "    </tr>\n",
       "  </tbody>\n",
       "</table>\n",
       "</div>"
      ],
      "text/plain": [
       "        open      high       low     close    volume  close_c_1min       rsi  \\\n",
       "33  0.876721  0.872625  0.878350  0.876721  0.002851           1.0  0.714517   \n",
       "34  0.876721  0.874837  0.878350  0.878931  0.023778           1.0  0.773412   \n",
       "35  0.878931  0.876144  0.880542  0.880237  0.049569           1.0  0.800011   \n",
       "36  0.880237  0.878958  0.881837  0.882046  0.063719           0.0  0.830127   \n",
       "37  0.882046  0.878255  0.883531  0.881845  0.016515           1.0  0.815971   \n",
       "\n",
       "           k         d  williams_r      macd  rate_of_change  \\\n",
       "33  0.617130  0.726698    0.791045  0.514965        0.433476   \n",
       "34  0.743056  0.695370    1.000000  0.516564        0.438635   \n",
       "35  0.854167  0.738117    1.000000  0.518717        0.440844   \n",
       "36  0.949495  0.848906    0.897959  0.521741        0.445265   \n",
       "37  0.886995  0.896886    0.877551  0.523566        0.444035   \n",
       "\n",
       "    on_balance_volume  weighted_moving_average  normalized_average_true_range  \n",
       "33           0.896611                 0.878493                       0.019952  \n",
       "34           0.897415                 0.878928                       0.023349  \n",
       "35           0.899091                 0.879427                       0.024505  \n",
       "36           0.901245                 0.880018                       0.028904  \n",
       "37           0.900687                 0.880567                       0.027676  "
      ]
     },
     "execution_count": 9,
     "metadata": {},
     "output_type": "execute_result"
    }
   ],
   "source": [
    "df.head()"
   ]
  },
  {
   "cell_type": "code",
   "execution_count": 10,
   "metadata": {},
   "outputs": [],
   "source": [
    "y = df['close_c_1min']\n",
    "X = df.drop(columns=['close_c_1min'], axis=1)"
   ]
  },
  {
   "cell_type": "code",
   "execution_count": 11,
   "metadata": {},
   "outputs": [
    {
     "data": {
      "text/html": [
       "<div>\n",
       "<style scoped>\n",
       "    .dataframe tbody tr th:only-of-type {\n",
       "        vertical-align: middle;\n",
       "    }\n",
       "\n",
       "    .dataframe tbody tr th {\n",
       "        vertical-align: top;\n",
       "    }\n",
       "\n",
       "    .dataframe thead th {\n",
       "        text-align: right;\n",
       "    }\n",
       "</style>\n",
       "<table border=\"1\" class=\"dataframe\">\n",
       "  <thead>\n",
       "    <tr style=\"text-align: right;\">\n",
       "      <th></th>\n",
       "      <th>open</th>\n",
       "      <th>high</th>\n",
       "      <th>low</th>\n",
       "      <th>close</th>\n",
       "      <th>volume</th>\n",
       "      <th>rsi</th>\n",
       "      <th>k</th>\n",
       "      <th>d</th>\n",
       "      <th>williams_r</th>\n",
       "      <th>macd</th>\n",
       "      <th>rate_of_change</th>\n",
       "      <th>on_balance_volume</th>\n",
       "      <th>weighted_moving_average</th>\n",
       "      <th>normalized_average_true_range</th>\n",
       "    </tr>\n",
       "  </thead>\n",
       "  <tbody>\n",
       "    <tr>\n",
       "      <td>33</td>\n",
       "      <td>0.876721</td>\n",
       "      <td>0.872625</td>\n",
       "      <td>0.878350</td>\n",
       "      <td>0.876721</td>\n",
       "      <td>0.002851</td>\n",
       "      <td>0.714517</td>\n",
       "      <td>0.617130</td>\n",
       "      <td>0.726698</td>\n",
       "      <td>0.791045</td>\n",
       "      <td>0.514965</td>\n",
       "      <td>0.433476</td>\n",
       "      <td>0.896611</td>\n",
       "      <td>0.878493</td>\n",
       "      <td>0.019952</td>\n",
       "    </tr>\n",
       "    <tr>\n",
       "      <td>34</td>\n",
       "      <td>0.876721</td>\n",
       "      <td>0.874837</td>\n",
       "      <td>0.878350</td>\n",
       "      <td>0.878931</td>\n",
       "      <td>0.023778</td>\n",
       "      <td>0.773412</td>\n",
       "      <td>0.743056</td>\n",
       "      <td>0.695370</td>\n",
       "      <td>1.000000</td>\n",
       "      <td>0.516564</td>\n",
       "      <td>0.438635</td>\n",
       "      <td>0.897415</td>\n",
       "      <td>0.878928</td>\n",
       "      <td>0.023349</td>\n",
       "    </tr>\n",
       "    <tr>\n",
       "      <td>35</td>\n",
       "      <td>0.878931</td>\n",
       "      <td>0.876144</td>\n",
       "      <td>0.880542</td>\n",
       "      <td>0.880237</td>\n",
       "      <td>0.049569</td>\n",
       "      <td>0.800011</td>\n",
       "      <td>0.854167</td>\n",
       "      <td>0.738117</td>\n",
       "      <td>1.000000</td>\n",
       "      <td>0.518717</td>\n",
       "      <td>0.440844</td>\n",
       "      <td>0.899091</td>\n",
       "      <td>0.879427</td>\n",
       "      <td>0.024505</td>\n",
       "    </tr>\n",
       "    <tr>\n",
       "      <td>36</td>\n",
       "      <td>0.880237</td>\n",
       "      <td>0.878958</td>\n",
       "      <td>0.881837</td>\n",
       "      <td>0.882046</td>\n",
       "      <td>0.063719</td>\n",
       "      <td>0.830127</td>\n",
       "      <td>0.949495</td>\n",
       "      <td>0.848906</td>\n",
       "      <td>0.897959</td>\n",
       "      <td>0.521741</td>\n",
       "      <td>0.445265</td>\n",
       "      <td>0.901245</td>\n",
       "      <td>0.880018</td>\n",
       "      <td>0.028904</td>\n",
       "    </tr>\n",
       "    <tr>\n",
       "      <td>37</td>\n",
       "      <td>0.882046</td>\n",
       "      <td>0.878255</td>\n",
       "      <td>0.883531</td>\n",
       "      <td>0.881845</td>\n",
       "      <td>0.016515</td>\n",
       "      <td>0.815971</td>\n",
       "      <td>0.886995</td>\n",
       "      <td>0.896886</td>\n",
       "      <td>0.877551</td>\n",
       "      <td>0.523566</td>\n",
       "      <td>0.444035</td>\n",
       "      <td>0.900687</td>\n",
       "      <td>0.880567</td>\n",
       "      <td>0.027676</td>\n",
       "    </tr>\n",
       "  </tbody>\n",
       "</table>\n",
       "</div>"
      ],
      "text/plain": [
       "        open      high       low     close    volume       rsi         k  \\\n",
       "33  0.876721  0.872625  0.878350  0.876721  0.002851  0.714517  0.617130   \n",
       "34  0.876721  0.874837  0.878350  0.878931  0.023778  0.773412  0.743056   \n",
       "35  0.878931  0.876144  0.880542  0.880237  0.049569  0.800011  0.854167   \n",
       "36  0.880237  0.878958  0.881837  0.882046  0.063719  0.830127  0.949495   \n",
       "37  0.882046  0.878255  0.883531  0.881845  0.016515  0.815971  0.886995   \n",
       "\n",
       "           d  williams_r      macd  rate_of_change  on_balance_volume  \\\n",
       "33  0.726698    0.791045  0.514965        0.433476           0.896611   \n",
       "34  0.695370    1.000000  0.516564        0.438635           0.897415   \n",
       "35  0.738117    1.000000  0.518717        0.440844           0.899091   \n",
       "36  0.848906    0.897959  0.521741        0.445265           0.901245   \n",
       "37  0.896886    0.877551  0.523566        0.444035           0.900687   \n",
       "\n",
       "    weighted_moving_average  normalized_average_true_range  \n",
       "33                 0.878493                       0.019952  \n",
       "34                 0.878928                       0.023349  \n",
       "35                 0.879427                       0.024505  \n",
       "36                 0.880018                       0.028904  \n",
       "37                 0.880567                       0.027676  "
      ]
     },
     "execution_count": 11,
     "metadata": {},
     "output_type": "execute_result"
    }
   ],
   "source": [
    "X.head()"
   ]
  },
  {
   "cell_type": "code",
   "execution_count": 12,
   "metadata": {},
   "outputs": [
    {
     "data": {
      "text/plain": [
       "(143957,)"
      ]
     },
     "execution_count": 12,
     "metadata": {},
     "output_type": "execute_result"
    }
   ],
   "source": [
    "y.shape"
   ]
  },
  {
   "cell_type": "code",
   "execution_count": 13,
   "metadata": {},
   "outputs": [
    {
     "data": {
      "text/plain": [
       "(143957, 14)"
      ]
     },
     "execution_count": 13,
     "metadata": {},
     "output_type": "execute_result"
    }
   ],
   "source": [
    "X.shape"
   ]
  },
  {
   "cell_type": "code",
   "execution_count": 14,
   "metadata": {},
   "outputs": [],
   "source": [
    "from sklearn.model_selection import train_test_split"
   ]
  },
  {
   "cell_type": "code",
   "execution_count": 15,
   "metadata": {},
   "outputs": [],
   "source": [
    "X_train, X_test, y_train, y_test = train_test_split(X, y, test_size=0.2)"
   ]
  },
  {
   "cell_type": "code",
   "execution_count": 16,
   "metadata": {},
   "outputs": [],
   "source": [
    "from sklearn.linear_model import LogisticRegression"
   ]
  },
  {
   "cell_type": "code",
   "execution_count": 17,
   "metadata": {},
   "outputs": [
    {
     "name": "stderr",
     "output_type": "stream",
     "text": [
      "C:\\Users\\TaiT_\\Anaconda3\\lib\\site-packages\\sklearn\\linear_model\\logistic.py:432: FutureWarning: Default solver will be changed to 'lbfgs' in 0.22. Specify a solver to silence this warning.\n",
      "  FutureWarning)\n"
     ]
    }
   ],
   "source": [
    "clf = LogisticRegression(random_state=0).fit(X_train, y_train)"
   ]
  },
  {
   "cell_type": "code",
   "execution_count": 18,
   "metadata": {},
   "outputs": [
    {
     "data": {
      "text/plain": [
       "0.5838145269830244"
      ]
     },
     "execution_count": 18,
     "metadata": {},
     "output_type": "execute_result"
    }
   ],
   "source": [
    "clf.score(X_train, y_train)"
   ]
  },
  {
   "cell_type": "code",
   "execution_count": 19,
   "metadata": {},
   "outputs": [],
   "source": [
    "y_predict_train = clf.predict(X_train)"
   ]
  },
  {
   "cell_type": "code",
   "execution_count": 20,
   "metadata": {},
   "outputs": [],
   "source": [
    "y_predict = clf.predict(X_test)"
   ]
  },
  {
   "cell_type": "code",
   "execution_count": 21,
   "metadata": {},
   "outputs": [
    {
     "data": {
      "text/plain": [
       "(28792,)"
      ]
     },
     "execution_count": 21,
     "metadata": {},
     "output_type": "execute_result"
    }
   ],
   "source": [
    "y_predict.shape"
   ]
  },
  {
   "cell_type": "code",
   "execution_count": 22,
   "metadata": {},
   "outputs": [],
   "source": [
    "from sklearn.metrics import f1_score, precision_score, recall_score, accuracy_score"
   ]
  },
  {
   "cell_type": "code",
   "execution_count": 23,
   "metadata": {},
   "outputs": [],
   "source": [
    "train_precision = precision_score(y_train, y_predict_train)\n",
    "train_recall = recall_score(y_train, y_predict_train)\n",
    "train_f1 = f1_score(y_train, y_predict_train)\n",
    "train_accuracy_score = accuracy_score(y_train, y_predict_train)"
   ]
  },
  {
   "cell_type": "code",
   "execution_count": 24,
   "metadata": {},
   "outputs": [
    {
     "name": "stdout",
     "output_type": "stream",
     "text": [
      "0.5867065835865714 train_precision\n",
      "0.9687765220887122 train_recall\n",
      "0.7308180480517584 train_f1\n",
      "0.5838145269830244 accuracy_score\n"
     ]
    }
   ],
   "source": [
    "print(train_precision,'train_precision')\n",
    "print(train_recall,'train_recall')\n",
    "print(train_f1,'train_f1')\n",
    "print(train_accuracy_score,'accuracy_score')"
   ]
  },
  {
   "cell_type": "code",
   "execution_count": 25,
   "metadata": {},
   "outputs": [],
   "source": [
    "test_precision = precision_score(y_test, y_predict)\n",
    "test_recall = recall_score(y_test, y_predict)\n",
    "test_f1 = f1_score(y_test, y_predict)\n",
    "test_accuracy_score = accuracy_score(y_test, y_predict)"
   ]
  },
  {
   "cell_type": "code",
   "execution_count": 26,
   "metadata": {},
   "outputs": [
    {
     "name": "stdout",
     "output_type": "stream",
     "text": [
      "0.5817264371958911 test_precision\n",
      "0.9687875150060024 test_recall\n",
      "0.7269451638329016 test_f1\n",
      "0.5788760766879689 test accuracy score\n"
     ]
    }
   ],
   "source": [
    "print(test_precision,'test_precision')\n",
    "print(test_recall,'test_recall')\n",
    "print(test_f1,'test_f1')\n",
    "print(test_accuracy_score,'test accuracy score')"
   ]
  },
  {
   "cell_type": "code",
   "execution_count": 27,
   "metadata": {},
   "outputs": [],
   "source": [
    "from sklearn.ensemble import RandomForestClassifier"
   ]
  },
  {
   "cell_type": "code",
   "execution_count": 28,
   "metadata": {},
   "outputs": [
    {
     "data": {
      "text/plain": [
       "RandomForestClassifier(bootstrap=True, class_weight=None, criterion='gini',\n",
       "                       max_depth=20, max_features='auto', max_leaf_nodes=None,\n",
       "                       min_impurity_decrease=0.0, min_impurity_split=None,\n",
       "                       min_samples_leaf=1, min_samples_split=2,\n",
       "                       min_weight_fraction_leaf=0.0, n_estimators=30,\n",
       "                       n_jobs=None, oob_score=False, random_state=None,\n",
       "                       verbose=0, warm_start=False)"
      ]
     },
     "execution_count": 28,
     "metadata": {},
     "output_type": "execute_result"
    }
   ],
   "source": [
    "clf_forest = RandomForestClassifier(max_depth=20, n_estimators=30)\n",
    "clf_forest.fit(X_train, y_train)"
   ]
  },
  {
   "cell_type": "code",
   "execution_count": 29,
   "metadata": {},
   "outputs": [
    {
     "data": {
      "text/plain": [
       "0.901367603004385"
      ]
     },
     "execution_count": 29,
     "metadata": {},
     "output_type": "execute_result"
    }
   ],
   "source": [
    "clf_forest.score(X_train,y_train)"
   ]
  },
  {
   "cell_type": "code",
   "execution_count": 36,
   "metadata": {},
   "outputs": [
    {
     "data": {
      "text/plain": [
       "0.5753334259516533"
      ]
     },
     "execution_count": 36,
     "metadata": {},
     "output_type": "execute_result"
    }
   ],
   "source": [
    "clf_forest.score(X_test,y_test)"
   ]
  },
  {
   "cell_type": "code",
   "execution_count": 30,
   "metadata": {},
   "outputs": [],
   "source": [
    "clf_forest_pred_train = clf_forest.predict(X_train)"
   ]
  },
  {
   "cell_type": "code",
   "execution_count": 31,
   "metadata": {},
   "outputs": [],
   "source": [
    "train_precision_forest = precision_score(y_train, clf_forest_pred_train)\n",
    "train_recall_forest = recall_score(y_train, clf_forest_pred_train)\n",
    "train_f1_forest = f1_score(y_train, clf_forest_pred_train)\n",
    "train_accuracy_score_forest = accuracy_score(y_train, clf_forest_pred_train)"
   ]
  },
  {
   "cell_type": "code",
   "execution_count": 32,
   "metadata": {},
   "outputs": [
    {
     "name": "stdout",
     "output_type": "stream",
     "text": [
      "0.8606457783982214 train_precision_forest\n",
      "0.9913938148627924 train_recall_forest\n",
      "0.9214046012800553 train_f1_forest\n",
      "0.901367603004385 train_accuracy_score_forest\n"
     ]
    }
   ],
   "source": [
    "print(train_precision_forest,'train_precision_forest')\n",
    "print(train_recall_forest,'train_recall_forest')\n",
    "print(train_f1_forest,'train_f1_forest')\n",
    "print(train_accuracy_score_forest,'train_accuracy_score_forest')"
   ]
  },
  {
   "cell_type": "code",
   "execution_count": 33,
   "metadata": {},
   "outputs": [],
   "source": [
    "clf_forest_pred = clf_forest.predict(X_test)"
   ]
  },
  {
   "cell_type": "code",
   "execution_count": 34,
   "metadata": {},
   "outputs": [],
   "source": [
    "test_precision_forest = precision_score(y_test, clf_forest_pred)\n",
    "test_recall_forest = recall_score(y_test, clf_forest_pred)\n",
    "test_f1_forest = f1_score(y_test, clf_forest_pred)\n",
    "test_accuracy_score_forest = accuracy_score(y_test, clf_forest_pred)"
   ]
  },
  {
   "cell_type": "code",
   "execution_count": 35,
   "metadata": {},
   "outputs": [
    {
     "name": "stdout",
     "output_type": "stream",
     "text": [
      "0.59636537541846 test_precision_forest\n",
      "0.8233493397358943 test_recall_forest\n",
      "0.6917122614154964 test_f1_forest\n",
      "0.5753334259516533 test_accuracy_score_forest\n"
     ]
    }
   ],
   "source": [
    "print(test_precision_forest,'test_precision_forest')\n",
    "print(test_recall_forest,'test_recall_forest')\n",
    "print(test_f1_forest,'test_f1_forest')\n",
    "print(test_accuracy_score_forest,'test_accuracy_score_forest')"
   ]
  },
  {
   "cell_type": "code",
   "execution_count": null,
   "metadata": {},
   "outputs": [],
   "source": []
  }
 ],
 "metadata": {
  "kernelspec": {
   "display_name": "Python 3",
   "language": "python",
   "name": "python3"
  },
  "language_info": {
   "codemirror_mode": {
    "name": "ipython",
    "version": 3
   },
   "file_extension": ".py",
   "mimetype": "text/x-python",
   "name": "python",
   "nbconvert_exporter": "python",
   "pygments_lexer": "ipython3",
   "version": "3.7.4"
  }
 },
 "nbformat": 4,
 "nbformat_minor": 2
}
