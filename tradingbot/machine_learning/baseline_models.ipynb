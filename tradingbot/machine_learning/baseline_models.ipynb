version https://git-lfs.github.com/spec/v1
oid sha256:c89d75cf95988e1d4428fc079c2e866d6e924ce3e6b8b1a7a7c10419ed182eb7
size 37562
