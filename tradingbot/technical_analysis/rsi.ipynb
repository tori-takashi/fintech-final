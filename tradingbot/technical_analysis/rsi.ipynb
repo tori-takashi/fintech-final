{
 "nbformat": 4,
 "nbformat_minor": 2,
 "metadata": {
  "language_info": {
   "name": "python",
   "codemirror_mode": {
    "name": "ipython",
    "version": 3
   },
   "version": "3.7.4"
  },
  "orig_nbformat": 2,
  "file_extension": ".py",
  "mimetype": "text/x-python",
  "name": "python",
  "npconvert_exporter": "python",
  "pygments_lexer": "ipython3",
  "version": 3
 },
 "cells": [
  {
   "cell_type": "code",
   "execution_count": 1,
   "metadata": {},
   "outputs": [],
   "source": [
    "import pandas as pd\n",
    "import numpy as np"
   ]
  },
  {
   "cell_type": "code",
   "execution_count": 2,
   "metadata": {},
   "outputs": [],
   "source": [
    "df = pd.read_csv('../csv/ohlcv_with_future.csv')"
   ]
  },
  {
   "cell_type": "code",
   "execution_count": 25,
   "metadata": {},
   "outputs": [],
   "source": [
    "def getStatusOfPrice(df, n, name):\n",
    "    close = df['close'].values\n",
    "    temp = []\n",
    "    for index, value in enumerate(close):\n",
    "        if(index + n >= len(close)):\n",
    "            temp.append(None)\n",
    "        else:\n",
    "            diff = close[index + n] - value\n",
    "            if(diff == 0):\n",
    "                temp.append(0)\n",
    "            elif(diff < 0):\n",
    "                temp.append(-1)\n",
    "            elif(diff > 0):\n",
    "                temp.append(1)\n",
    "    df[name] = temp"
   ]
  },
  {
   "cell_type": "code",
   "execution_count": 26,
   "metadata": {},
   "outputs": [
    {
     "name": "stdout",
     "output_type": "stream",
     "text": "Complete!\nComplete!\nComplete!\n"
    }
   ],
   "source": [
    "getStatusOfPrice(df,1,'close_c_1min')\n",
    "getStatusOfPrice(df,5,'close_c_5min')\n",
    "getStatusOfPrice(df,10,'close_c_10min')"
   ]
  },
  {
   "cell_type": "code",
   "execution_count": 3,
   "metadata": {},
   "outputs": [],
   "source": [
    "def calculateGainAndLoss(arr):\n",
    "    loss = 0\n",
    "    gain = 0\n",
    "    \n",
    "    for index, value in enumerate(arr):\n",
    "        if(index == 0):\n",
    "            continue\n",
    "        diff = value - arr[index - 1]\n",
    "        if(diff >= 0):\n",
    "            gain += diff\n",
    "        else:\n",
    "            loss += -1 * diff\n",
    "    \n",
    "    return {\n",
    "        \"loss\": loss,\n",
    "        \"gain\": gain\n",
    "    }\n",
    "    \n"
   ]
  },
  {
   "cell_type": "code",
   "execution_count": 4,
   "metadata": {},
   "outputs": [],
   "source": [
    "def calculateInitialRSI(n, df):\n",
    "    close = df['close'].values\n",
    "    initial = close[0:n]\n",
    "    res = calculateGainAndLoss(initial)\n",
    "    avg_loss = res['loss'] / 14\n",
    "    avg_gain = res['gain'] / 14\n",
    "    RS = avg_gain / avg_loss\n",
    "    RSI = 100 - (100 / (1+RS))\n",
    "    return {\n",
    "        \"avg_gain\": avg_gain,\n",
    "        \"avg_loss\": avg_loss,\n",
    "        \"RS\": RS,\n",
    "        \"RSI\": RSI\n",
    "    }"
   ]
  },
  {
   "cell_type": "code",
   "execution_count": 20,
   "metadata": {},
   "outputs": [],
   "source": [
    "def calculateRSI(n, df):\n",
    "    close = df['close'].values\n",
    "    tail = close[n:len(df)]\n",
    "    temp = calculateInitialRSI(n, df)\n",
    "    arr = []\n",
    "    arr.append(temp[\"RSI\"])\n",
    "    for index, value in enumerate(tail):\n",
    "        if(index == 0):\n",
    "            continue\n",
    "        else:\n",
    "            diff = value - tail[index - 1]\n",
    "            avg_gain = temp[\"avg_gain\"]\n",
    "            avg_loss = temp[\"avg_loss\"]\n",
    "            if(diff >= 0):\n",
    "                avg_gain = (avg_gain * (n - 1) + diff) / n\n",
    "                temp[\"avg_gain\"] = avg_gain\n",
    "            else:\n",
    "                avg_loss = ((avg_loss * (n - 1)) + (-1 * diff)) / n\n",
    "                temp[\"avg_loss\"] = avg_loss\n",
    "            RS = avg_gain / avg_loss\n",
    "            RSI = 100 - (100 / (1+RS))\n",
    "            temp[\"RS\"] = RS\n",
    "            temp [\"RSI\"] = RSI\n",
    "            arr.append(RSI)   \n",
    "    return arr  "
   ]
  },
  {
   "cell_type": "code",
   "execution_count": 33,
   "metadata": {},
   "outputs": [],
   "source": [
    "arr = calculateRSI(14, df)\n",
    "res = np.append(([None] * (len(df) - len(arr))), arr)\n",
    "df['RSI'] = res\n",
    "df.to_csv(\"./csv/ohlcv_with_future.csv\")"
   ]
  },
  {
   "cell_type": "code",
   "execution_count": null,
   "metadata": {},
   "outputs": [],
   "source": []
  }
 ]
}